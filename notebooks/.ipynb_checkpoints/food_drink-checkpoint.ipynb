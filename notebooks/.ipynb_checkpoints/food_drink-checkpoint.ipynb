{
 "cells": [
  {
   "cell_type": "markdown",
   "id": "1c03aeb3-956d-4a1b-b05f-3706686fcd32",
   "metadata": {},
   "source": [
    "# Import Libraries"
   ]
  },
  {
   "cell_type": "code",
   "execution_count": 114,
   "id": "870f9360-1950-447b-8500-48fc8d3c73b8",
   "metadata": {},
   "outputs": [],
   "source": [
    "import pandas as pd\n",
    "import numpy as np\n",
    "import matplotlib.pyplot as plt\n",
    "import plotly.express as px\n",
    "import plotly.graph_objects as go\n",
    "import seaborn as sns\n",
    "import statsmodels.api as sm\n",
    "from scipy import stats\n",
    "from scipy.stats import f_oneway"
   ]
  },
  {
   "cell_type": "markdown",
   "id": "92472f6e-285d-40af-aa34-3664b08ccaf1",
   "metadata": {},
   "source": [
    "# Data Cleaning"
   ]
  },
  {
   "cell_type": "code",
   "execution_count": 4,
   "id": "055e8bb9-b365-4bed-b5a7-1b6111247731",
   "metadata": {},
   "outputs": [],
   "source": [
    "food = pd.read_csv(\"data/raw/All_Grocery_and_Gourmet_Foods.csv\")"
   ]
  },
  {
   "cell_type": "code",
   "execution_count": 5,
   "id": "07b2bd83-d7ce-419a-874d-ea3793eb2990",
   "metadata": {},
   "outputs": [
    {
     "data": {
      "text/plain": [
       "(960, 9)"
      ]
     },
     "execution_count": 5,
     "metadata": {},
     "output_type": "execute_result"
    }
   ],
   "source": [
    "food.shape"
   ]
  },
  {
   "cell_type": "code",
   "execution_count": 6,
   "id": "a8ed3762-3008-4554-977a-884f4d9400ff",
   "metadata": {},
   "outputs": [
    {
     "data": {
      "text/plain": [
       "'      Name\\tDescription\\nname\\t        The name of the product\\nmain_category\\tThe main category of the product belong\\nsub_category\\tThe main category of the product belong\\nimage\\t        The image of the product look like\\nlink\\t        The amazon website reference link of the product\\nratings\\t        The ratings given by amazon customers of the product\\nno of ratings\\tThe number of ratings given to this product in amazon shopping\\ndiscount_price\\tThe discount prices of the product\\nactual_price\\tThe actual MRP of the product      '"
      ]
     },
     "execution_count": 6,
     "metadata": {},
     "output_type": "execute_result"
    }
   ],
   "source": [
    "\"\"\"      Name\tDescription\n",
    "name\t        The name of the product\n",
    "main_category\tThe main category of the product belong\n",
    "sub_category\tThe main category of the product belong\n",
    "image\t        The image of the product look like\n",
    "link\t        The amazon website reference link of the product\n",
    "ratings\t        The ratings given by amazon customers of the product\n",
    "no of ratings\tThe number of ratings given to this product in amazon shopping\n",
    "discount_price\tThe discount prices of the product\n",
    "actual_price\tThe actual MRP of the product      \"\"\""
   ]
  },
  {
   "cell_type": "code",
   "execution_count": 7,
   "id": "ea5964d1-128d-4f76-9c87-f75825d8ef1b",
   "metadata": {},
   "outputs": [
    {
     "data": {
      "text/plain": [
       "name                0\n",
       "main_category       0\n",
       "sub_category        0\n",
       "image               0\n",
       "link                0\n",
       "ratings            14\n",
       "no_of_ratings      14\n",
       "discount_price    201\n",
       "actual_price        6\n",
       "dtype: int64"
      ]
     },
     "execution_count": 7,
     "metadata": {},
     "output_type": "execute_result"
    }
   ],
   "source": [
    "food.isnull().sum()"
   ]
  },
  {
   "cell_type": "code",
   "execution_count": 8,
   "id": "c48e17b5-3ad6-4607-aa65-b8d92652f0bf",
   "metadata": {},
   "outputs": [
    {
     "data": {
      "text/plain": [
       "Index(['name', 'main_category', 'sub_category', 'image', 'link', 'ratings',\n",
       "       'no_of_ratings', 'discount_price', 'actual_price'],\n",
       "      dtype='object')"
      ]
     },
     "execution_count": 8,
     "metadata": {},
     "output_type": "execute_result"
    }
   ],
   "source": [
    "food.columns"
   ]
  },
  {
   "cell_type": "code",
   "execution_count": null,
   "id": "18428b2f-73ba-4d9a-8a65-c298ac9312bd",
   "metadata": {},
   "outputs": [],
   "source": []
  },
  {
   "cell_type": "code",
   "execution_count": 9,
   "id": "3155b874-2bd9-4f0a-a8f9-712ec7de6eb8",
   "metadata": {},
   "outputs": [
    {
     "data": {
      "text/html": [
       "<div>\n",
       "<style scoped>\n",
       "    .dataframe tbody tr th:only-of-type {\n",
       "        vertical-align: middle;\n",
       "    }\n",
       "\n",
       "    .dataframe tbody tr th {\n",
       "        vertical-align: top;\n",
       "    }\n",
       "\n",
       "    .dataframe thead th {\n",
       "        text-align: right;\n",
       "    }\n",
       "</style>\n",
       "<table border=\"1\" class=\"dataframe\">\n",
       "  <thead>\n",
       "    <tr style=\"text-align: right;\">\n",
       "      <th></th>\n",
       "      <th>name</th>\n",
       "      <th>main_category</th>\n",
       "      <th>sub_category</th>\n",
       "      <th>image</th>\n",
       "      <th>link</th>\n",
       "      <th>ratings</th>\n",
       "      <th>no_of_ratings</th>\n",
       "      <th>discount_price</th>\n",
       "      <th>actual_price</th>\n",
       "    </tr>\n",
       "  </thead>\n",
       "  <tbody>\n",
       "    <tr>\n",
       "      <th>0</th>\n",
       "      <td>Nutraj 100% Natural Dried Premium California W...</td>\n",
       "      <td>grocery &amp; gourmet foods</td>\n",
       "      <td>All Grocery &amp; Gourmet Foods</td>\n",
       "      <td>https://m.media-amazon.com/images/I/71f5UPOWDq...</td>\n",
       "      <td>https://www.amazon.in/Nutraj-California-Walnut...</td>\n",
       "      <td>3.9</td>\n",
       "      <td>6,081</td>\n",
       "      <td>₹686</td>\n",
       "      <td>₹998</td>\n",
       "    </tr>\n",
       "    <tr>\n",
       "      <th>1</th>\n",
       "      <td>Cadbury Bournvita 5 Star Magic Health Drink, 7...</td>\n",
       "      <td>grocery &amp; gourmet foods</td>\n",
       "      <td>All Grocery &amp; Gourmet Foods</td>\n",
       "      <td>https://m.media-amazon.com/images/I/614FIW5c6H...</td>\n",
       "      <td>https://www.amazon.in/Bournvita-Magic-Chocolat...</td>\n",
       "      <td>4.3</td>\n",
       "      <td>8,481</td>\n",
       "      <td>NaN</td>\n",
       "      <td>₹353</td>\n",
       "    </tr>\n",
       "    <tr>\n",
       "      <th>2</th>\n",
       "      <td>Sugar Free Green Natural Stevia Jar(200 g)</td>\n",
       "      <td>grocery &amp; gourmet foods</td>\n",
       "      <td>All Grocery &amp; Gourmet Foods</td>\n",
       "      <td>https://m.media-amazon.com/images/I/61rBhkTJ6E...</td>\n",
       "      <td>https://www.amazon.in/Sugarfree-Green-100-Natu...</td>\n",
       "      <td>4.3</td>\n",
       "      <td>1,585</td>\n",
       "      <td>₹162</td>\n",
       "      <td>₹170</td>\n",
       "    </tr>\n",
       "    <tr>\n",
       "      <th>3</th>\n",
       "      <td>Daawat Pulav, Long Grains, Fluffy Basmati for ...</td>\n",
       "      <td>grocery &amp; gourmet foods</td>\n",
       "      <td>All Grocery &amp; Gourmet Foods</td>\n",
       "      <td>https://m.media-amazon.com/images/I/71UO6eXC1Q...</td>\n",
       "      <td>https://www.amazon.in/Daawat-Pulav-Basmati-Ric...</td>\n",
       "      <td>4.3</td>\n",
       "      <td>3,907</td>\n",
       "      <td>₹138</td>\n",
       "      <td>₹139</td>\n",
       "    </tr>\n",
       "    <tr>\n",
       "      <th>4</th>\n",
       "      <td>Tata Tea Gold | Assam teas with Gently Rolled ...</td>\n",
       "      <td>grocery &amp; gourmet foods</td>\n",
       "      <td>All Grocery &amp; Gourmet Foods</td>\n",
       "      <td>https://m.media-amazon.com/images/I/51kEujuYlp...</td>\n",
       "      <td>https://www.amazon.in/Tata-Tea-Gold-500g/dp/B0...</td>\n",
       "      <td>4.4</td>\n",
       "      <td>15,528</td>\n",
       "      <td>₹283</td>\n",
       "      <td>₹295</td>\n",
       "    </tr>\n",
       "  </tbody>\n",
       "</table>\n",
       "</div>"
      ],
      "text/plain": [
       "                                                name            main_category  \\\n",
       "0  Nutraj 100% Natural Dried Premium California W...  grocery & gourmet foods   \n",
       "1  Cadbury Bournvita 5 Star Magic Health Drink, 7...  grocery & gourmet foods   \n",
       "2         Sugar Free Green Natural Stevia Jar(200 g)  grocery & gourmet foods   \n",
       "3  Daawat Pulav, Long Grains, Fluffy Basmati for ...  grocery & gourmet foods   \n",
       "4  Tata Tea Gold | Assam teas with Gently Rolled ...  grocery & gourmet foods   \n",
       "\n",
       "                  sub_category  \\\n",
       "0  All Grocery & Gourmet Foods   \n",
       "1  All Grocery & Gourmet Foods   \n",
       "2  All Grocery & Gourmet Foods   \n",
       "3  All Grocery & Gourmet Foods   \n",
       "4  All Grocery & Gourmet Foods   \n",
       "\n",
       "                                               image  \\\n",
       "0  https://m.media-amazon.com/images/I/71f5UPOWDq...   \n",
       "1  https://m.media-amazon.com/images/I/614FIW5c6H...   \n",
       "2  https://m.media-amazon.com/images/I/61rBhkTJ6E...   \n",
       "3  https://m.media-amazon.com/images/I/71UO6eXC1Q...   \n",
       "4  https://m.media-amazon.com/images/I/51kEujuYlp...   \n",
       "\n",
       "                                                link ratings no_of_ratings  \\\n",
       "0  https://www.amazon.in/Nutraj-California-Walnut...     3.9         6,081   \n",
       "1  https://www.amazon.in/Bournvita-Magic-Chocolat...     4.3         8,481   \n",
       "2  https://www.amazon.in/Sugarfree-Green-100-Natu...     4.3         1,585   \n",
       "3  https://www.amazon.in/Daawat-Pulav-Basmati-Ric...     4.3         3,907   \n",
       "4  https://www.amazon.in/Tata-Tea-Gold-500g/dp/B0...     4.4        15,528   \n",
       "\n",
       "  discount_price actual_price  \n",
       "0           ₹686         ₹998  \n",
       "1            NaN         ₹353  \n",
       "2           ₹162         ₹170  \n",
       "3           ₹138         ₹139  \n",
       "4           ₹283         ₹295  "
      ]
     },
     "execution_count": 9,
     "metadata": {},
     "output_type": "execute_result"
    }
   ],
   "source": [
    "food.head()"
   ]
  },
  {
   "cell_type": "code",
   "execution_count": 10,
   "id": "722d36ee-2e60-4876-88be-ac5d3a7d0153",
   "metadata": {},
   "outputs": [],
   "source": [
    "drink = pd.read_csv(\"data/raw/Coffee_Tea_and_Beverages.csv\")"
   ]
  },
  {
   "cell_type": "code",
   "execution_count": 11,
   "id": "30af3be8-e1d1-40e7-8f01-8db14b24a944",
   "metadata": {},
   "outputs": [
    {
     "data": {
      "text/html": [
       "<div>\n",
       "<style scoped>\n",
       "    .dataframe tbody tr th:only-of-type {\n",
       "        vertical-align: middle;\n",
       "    }\n",
       "\n",
       "    .dataframe tbody tr th {\n",
       "        vertical-align: top;\n",
       "    }\n",
       "\n",
       "    .dataframe thead th {\n",
       "        text-align: right;\n",
       "    }\n",
       "</style>\n",
       "<table border=\"1\" class=\"dataframe\">\n",
       "  <thead>\n",
       "    <tr style=\"text-align: right;\">\n",
       "      <th></th>\n",
       "      <th>name</th>\n",
       "      <th>main_category</th>\n",
       "      <th>sub_category</th>\n",
       "      <th>image</th>\n",
       "      <th>link</th>\n",
       "      <th>ratings</th>\n",
       "      <th>no_of_ratings</th>\n",
       "      <th>discount_price</th>\n",
       "      <th>actual_price</th>\n",
       "    </tr>\n",
       "  </thead>\n",
       "  <tbody>\n",
       "    <tr>\n",
       "      <th>0</th>\n",
       "      <td>TE-A-ME Purify Green Tea, 100 Tea Bags | Green...</td>\n",
       "      <td>grocery &amp; gourmet foods</td>\n",
       "      <td>Coffee, Tea &amp; Beverages</td>\n",
       "      <td>https://m.media-amazon.com/images/I/71fNICQ+fJ...</td>\n",
       "      <td>https://www.amazon.in/TE-ME-Natural-Green-150g...</td>\n",
       "      <td>4.6</td>\n",
       "      <td>1,438</td>\n",
       "      <td>₹227</td>\n",
       "      <td>₹325</td>\n",
       "    </tr>\n",
       "    <tr>\n",
       "      <th>1</th>\n",
       "      <td>Bevzilla 200 Gram 100% Arabica Instant Classic...</td>\n",
       "      <td>grocery &amp; gourmet foods</td>\n",
       "      <td>Coffee, Tea &amp; Beverages</td>\n",
       "      <td>https://m.media-amazon.com/images/I/71xwcJP81W...</td>\n",
       "      <td>https://www.amazon.in/Bevzilla-Arabica-Instant...</td>\n",
       "      <td>4.0</td>\n",
       "      <td>288</td>\n",
       "      <td>₹269</td>\n",
       "      <td>₹799</td>\n",
       "    </tr>\n",
       "    <tr>\n",
       "      <th>2</th>\n",
       "      <td>Tata Tea Premium | Desh Ki Chai | Unique Blend...</td>\n",
       "      <td>grocery &amp; gourmet foods</td>\n",
       "      <td>Coffee, Tea &amp; Beverages</td>\n",
       "      <td>https://m.media-amazon.com/images/I/61z40Qqq-e...</td>\n",
       "      <td>https://www.amazon.in/Tata-Premium-Leaf-North-...</td>\n",
       "      <td>4.4</td>\n",
       "      <td>3,991</td>\n",
       "      <td>₹243</td>\n",
       "      <td>₹255</td>\n",
       "    </tr>\n",
       "    <tr>\n",
       "      <th>3</th>\n",
       "      <td>Nescafe Gold Rich and Smooth Coffee Powder, 95...</td>\n",
       "      <td>grocery &amp; gourmet foods</td>\n",
       "      <td>Coffee, Tea &amp; Beverages</td>\n",
       "      <td>https://m.media-amazon.com/images/I/61H7ZKZXK+...</td>\n",
       "      <td>https://www.amazon.in/Nescafe-Gold-Smooth-Coff...</td>\n",
       "      <td>4.5</td>\n",
       "      <td>6,445</td>\n",
       "      <td>₹445</td>\n",
       "      <td>₹520</td>\n",
       "    </tr>\n",
       "    <tr>\n",
       "      <th>4</th>\n",
       "      <td>Davidoff Café Espresso 57 Intense Instant Grou...</td>\n",
       "      <td>grocery &amp; gourmet foods</td>\n",
       "      <td>Coffee, Tea &amp; Beverages</td>\n",
       "      <td>https://m.media-amazon.com/images/I/61stTyerhL...</td>\n",
       "      <td>https://www.amazon.in/Supreme-World-Davidoff-C...</td>\n",
       "      <td>4.6</td>\n",
       "      <td>2,509</td>\n",
       "      <td>₹436</td>\n",
       "      <td>₹650</td>\n",
       "    </tr>\n",
       "  </tbody>\n",
       "</table>\n",
       "</div>"
      ],
      "text/plain": [
       "                                                name            main_category  \\\n",
       "0  TE-A-ME Purify Green Tea, 100 Tea Bags | Green...  grocery & gourmet foods   \n",
       "1  Bevzilla 200 Gram 100% Arabica Instant Classic...  grocery & gourmet foods   \n",
       "2  Tata Tea Premium | Desh Ki Chai | Unique Blend...  grocery & gourmet foods   \n",
       "3  Nescafe Gold Rich and Smooth Coffee Powder, 95...  grocery & gourmet foods   \n",
       "4  Davidoff Café Espresso 57 Intense Instant Grou...  grocery & gourmet foods   \n",
       "\n",
       "              sub_category                                              image  \\\n",
       "0  Coffee, Tea & Beverages  https://m.media-amazon.com/images/I/71fNICQ+fJ...   \n",
       "1  Coffee, Tea & Beverages  https://m.media-amazon.com/images/I/71xwcJP81W...   \n",
       "2  Coffee, Tea & Beverages  https://m.media-amazon.com/images/I/61z40Qqq-e...   \n",
       "3  Coffee, Tea & Beverages  https://m.media-amazon.com/images/I/61H7ZKZXK+...   \n",
       "4  Coffee, Tea & Beverages  https://m.media-amazon.com/images/I/61stTyerhL...   \n",
       "\n",
       "                                                link ratings no_of_ratings  \\\n",
       "0  https://www.amazon.in/TE-ME-Natural-Green-150g...     4.6         1,438   \n",
       "1  https://www.amazon.in/Bevzilla-Arabica-Instant...     4.0           288   \n",
       "2  https://www.amazon.in/Tata-Premium-Leaf-North-...     4.4         3,991   \n",
       "3  https://www.amazon.in/Nescafe-Gold-Smooth-Coff...     4.5         6,445   \n",
       "4  https://www.amazon.in/Supreme-World-Davidoff-C...     4.6         2,509   \n",
       "\n",
       "  discount_price actual_price  \n",
       "0           ₹227         ₹325  \n",
       "1           ₹269         ₹799  \n",
       "2           ₹243         ₹255  \n",
       "3           ₹445         ₹520  \n",
       "4           ₹436         ₹650  "
      ]
     },
     "execution_count": 11,
     "metadata": {},
     "output_type": "execute_result"
    }
   ],
   "source": [
    "drink.head()"
   ]
  },
  {
   "cell_type": "code",
   "execution_count": 12,
   "id": "adf77200-ea6c-4e9d-99d8-95aa9c6fd324",
   "metadata": {},
   "outputs": [
    {
     "data": {
      "text/plain": [
       "(1296, 9)"
      ]
     },
     "execution_count": 12,
     "metadata": {},
     "output_type": "execute_result"
    }
   ],
   "source": [
    "drink.shape"
   ]
  },
  {
   "cell_type": "code",
   "execution_count": 13,
   "id": "d2e8b8ed-0b56-47e5-aad4-fde033a9fba7",
   "metadata": {},
   "outputs": [
    {
     "name": "stdout",
     "output_type": "stream",
     "text": [
      "<class 'pandas.core.frame.DataFrame'>\n",
      "RangeIndex: 1296 entries, 0 to 1295\n",
      "Data columns (total 9 columns):\n",
      " #   Column          Non-Null Count  Dtype \n",
      "---  ------          --------------  ----- \n",
      " 0   name            1296 non-null   object\n",
      " 1   main_category   1296 non-null   object\n",
      " 2   sub_category    1296 non-null   object\n",
      " 3   image           1296 non-null   object\n",
      " 4   link            1296 non-null   object\n",
      " 5   ratings         1136 non-null   object\n",
      " 6   no_of_ratings   1136 non-null   object\n",
      " 7   discount_price  949 non-null    object\n",
      " 8   actual_price    1284 non-null   object\n",
      "dtypes: object(9)\n",
      "memory usage: 91.3+ KB\n"
     ]
    }
   ],
   "source": [
    "drink.info()"
   ]
  },
  {
   "cell_type": "code",
   "execution_count": 14,
   "id": "c0195271-85e3-4f14-9da5-5d563cc09a7f",
   "metadata": {},
   "outputs": [
    {
     "data": {
      "text/plain": [
       "name                0\n",
       "main_category       0\n",
       "sub_category        0\n",
       "image               0\n",
       "link                0\n",
       "ratings           160\n",
       "no_of_ratings     160\n",
       "discount_price    347\n",
       "actual_price       12\n",
       "dtype: int64"
      ]
     },
     "execution_count": 14,
     "metadata": {},
     "output_type": "execute_result"
    }
   ],
   "source": [
    "drink.isnull().sum()"
   ]
  },
  {
   "cell_type": "code",
   "execution_count": 15,
   "id": "9c43876c-843d-40cd-9c2b-cb5d996336f6",
   "metadata": {},
   "outputs": [
    {
     "data": {
      "text/plain": [
       "Index(['name', 'main_category', 'sub_category', 'image', 'link', 'ratings',\n",
       "       'no_of_ratings', 'discount_price', 'actual_price'],\n",
       "      dtype='object')"
      ]
     },
     "execution_count": 15,
     "metadata": {},
     "output_type": "execute_result"
    }
   ],
   "source": [
    "drink.columns"
   ]
  },
  {
   "cell_type": "markdown",
   "id": "bc434d26-5f2f-4fe3-ad6e-ecb8e93ae2f4",
   "metadata": {},
   "source": [
    "# Data Agregation"
   ]
  },
  {
   "cell_type": "code",
   "execution_count": 17,
   "id": "ee912f82-2654-448f-b036-b5ed19d32014",
   "metadata": {},
   "outputs": [
    {
     "data": {
      "text/html": [
       "<div>\n",
       "<style scoped>\n",
       "    .dataframe tbody tr th:only-of-type {\n",
       "        vertical-align: middle;\n",
       "    }\n",
       "\n",
       "    .dataframe tbody tr th {\n",
       "        vertical-align: top;\n",
       "    }\n",
       "\n",
       "    .dataframe thead th {\n",
       "        text-align: right;\n",
       "    }\n",
       "</style>\n",
       "<table border=\"1\" class=\"dataframe\">\n",
       "  <thead>\n",
       "    <tr style=\"text-align: right;\">\n",
       "      <th></th>\n",
       "      <th>name</th>\n",
       "      <th>main_category</th>\n",
       "      <th>sub_category</th>\n",
       "      <th>image</th>\n",
       "      <th>link</th>\n",
       "      <th>ratings</th>\n",
       "      <th>no_of_ratings</th>\n",
       "      <th>discount_price</th>\n",
       "      <th>actual_price</th>\n",
       "    </tr>\n",
       "  </thead>\n",
       "  <tbody>\n",
       "    <tr>\n",
       "      <th>0</th>\n",
       "      <td>Nutraj 100% Natural Dried Premium California W...</td>\n",
       "      <td>grocery &amp; gourmet foods</td>\n",
       "      <td>All Grocery &amp; Gourmet Foods</td>\n",
       "      <td>https://m.media-amazon.com/images/I/71f5UPOWDq...</td>\n",
       "      <td>https://www.amazon.in/Nutraj-California-Walnut...</td>\n",
       "      <td>3.9</td>\n",
       "      <td>6,081</td>\n",
       "      <td>₹686</td>\n",
       "      <td>₹998</td>\n",
       "    </tr>\n",
       "    <tr>\n",
       "      <th>1</th>\n",
       "      <td>Cadbury Bournvita 5 Star Magic Health Drink, 7...</td>\n",
       "      <td>grocery &amp; gourmet foods</td>\n",
       "      <td>All Grocery &amp; Gourmet Foods</td>\n",
       "      <td>https://m.media-amazon.com/images/I/614FIW5c6H...</td>\n",
       "      <td>https://www.amazon.in/Bournvita-Magic-Chocolat...</td>\n",
       "      <td>4.3</td>\n",
       "      <td>8,481</td>\n",
       "      <td>NaN</td>\n",
       "      <td>₹353</td>\n",
       "    </tr>\n",
       "    <tr>\n",
       "      <th>2</th>\n",
       "      <td>Sugar Free Green Natural Stevia Jar(200 g)</td>\n",
       "      <td>grocery &amp; gourmet foods</td>\n",
       "      <td>All Grocery &amp; Gourmet Foods</td>\n",
       "      <td>https://m.media-amazon.com/images/I/61rBhkTJ6E...</td>\n",
       "      <td>https://www.amazon.in/Sugarfree-Green-100-Natu...</td>\n",
       "      <td>4.3</td>\n",
       "      <td>1,585</td>\n",
       "      <td>₹162</td>\n",
       "      <td>₹170</td>\n",
       "    </tr>\n",
       "    <tr>\n",
       "      <th>3</th>\n",
       "      <td>Daawat Pulav, Long Grains, Fluffy Basmati for ...</td>\n",
       "      <td>grocery &amp; gourmet foods</td>\n",
       "      <td>All Grocery &amp; Gourmet Foods</td>\n",
       "      <td>https://m.media-amazon.com/images/I/71UO6eXC1Q...</td>\n",
       "      <td>https://www.amazon.in/Daawat-Pulav-Basmati-Ric...</td>\n",
       "      <td>4.3</td>\n",
       "      <td>3,907</td>\n",
       "      <td>₹138</td>\n",
       "      <td>₹139</td>\n",
       "    </tr>\n",
       "    <tr>\n",
       "      <th>4</th>\n",
       "      <td>Tata Tea Gold | Assam teas with Gently Rolled ...</td>\n",
       "      <td>grocery &amp; gourmet foods</td>\n",
       "      <td>All Grocery &amp; Gourmet Foods</td>\n",
       "      <td>https://m.media-amazon.com/images/I/51kEujuYlp...</td>\n",
       "      <td>https://www.amazon.in/Tata-Tea-Gold-500g/dp/B0...</td>\n",
       "      <td>4.4</td>\n",
       "      <td>15,528</td>\n",
       "      <td>₹283</td>\n",
       "      <td>₹295</td>\n",
       "    </tr>\n",
       "    <tr>\n",
       "      <th>...</th>\n",
       "      <td>...</td>\n",
       "      <td>...</td>\n",
       "      <td>...</td>\n",
       "      <td>...</td>\n",
       "      <td>...</td>\n",
       "      <td>...</td>\n",
       "      <td>...</td>\n",
       "      <td>...</td>\n",
       "      <td>...</td>\n",
       "    </tr>\n",
       "    <tr>\n",
       "      <th>1291</th>\n",
       "      <td>Herbs N Root Arjuna Instant Green Tea | Blackc...</td>\n",
       "      <td>grocery &amp; gourmet foods</td>\n",
       "      <td>Coffee, Tea &amp; Beverages</td>\n",
       "      <td>https://m.media-amazon.com/images/I/61Fa6odXRv...</td>\n",
       "      <td>https://www.amazon.in/Herbs-Root-Blackcurrant-...</td>\n",
       "      <td>4.8</td>\n",
       "      <td>36</td>\n",
       "      <td>₹275</td>\n",
       "      <td>₹350</td>\n",
       "    </tr>\n",
       "    <tr>\n",
       "      <th>1292</th>\n",
       "      <td>HEALTHY PANDA Natural Desi Immunity Booster Ka...</td>\n",
       "      <td>grocery &amp; gourmet foods</td>\n",
       "      <td>Coffee, Tea &amp; Beverages</td>\n",
       "      <td>https://m.media-amazon.com/images/I/61cdLISpqk...</td>\n",
       "      <td>https://www.amazon.in/HEALTHY-PANDA-immunity-a...</td>\n",
       "      <td>4.4</td>\n",
       "      <td>3</td>\n",
       "      <td>₹209</td>\n",
       "      <td>₹479</td>\n",
       "    </tr>\n",
       "    <tr>\n",
       "      <th>1293</th>\n",
       "      <td>Namhah Moonshine Peach Muscatel Loose Tea with...</td>\n",
       "      <td>grocery &amp; gourmet foods</td>\n",
       "      <td>Coffee, Tea &amp; Beverages</td>\n",
       "      <td>https://m.media-amazon.com/images/I/61O2lEQehm...</td>\n",
       "      <td>https://www.amazon.in/Moonshine-Muscatel-Handm...</td>\n",
       "      <td>4.6</td>\n",
       "      <td>6</td>\n",
       "      <td>NaN</td>\n",
       "      <td>₹349</td>\n",
       "    </tr>\n",
       "    <tr>\n",
       "      <th>1294</th>\n",
       "      <td>Grenera Moringa Herbal Infusion 20 Tea Bags | ...</td>\n",
       "      <td>grocery &amp; gourmet foods</td>\n",
       "      <td>Coffee, Tea &amp; Beverages</td>\n",
       "      <td>https://m.media-amazon.com/images/I/71yHtYp2-e...</td>\n",
       "      <td>https://www.amazon.in/Grenera-Moringa-Herbal-I...</td>\n",
       "      <td>4.0</td>\n",
       "      <td>84</td>\n",
       "      <td>₹165</td>\n",
       "      <td>₹175</td>\n",
       "    </tr>\n",
       "    <tr>\n",
       "      <th>1295</th>\n",
       "      <td>Bakefat India Premium Flavoured Coffee Cubes-1...</td>\n",
       "      <td>grocery &amp; gourmet foods</td>\n",
       "      <td>Coffee, Tea &amp; Beverages</td>\n",
       "      <td>https://m.media-amazon.com/images/I/61Jc3Qg5DV...</td>\n",
       "      <td>https://www.amazon.in/Bakefat-India-Flavoured-...</td>\n",
       "      <td>1.0</td>\n",
       "      <td>1</td>\n",
       "      <td>₹249</td>\n",
       "      <td>₹299</td>\n",
       "    </tr>\n",
       "  </tbody>\n",
       "</table>\n",
       "<p>2256 rows × 9 columns</p>\n",
       "</div>"
      ],
      "text/plain": [
       "                                                   name  \\\n",
       "0     Nutraj 100% Natural Dried Premium California W...   \n",
       "1     Cadbury Bournvita 5 Star Magic Health Drink, 7...   \n",
       "2            Sugar Free Green Natural Stevia Jar(200 g)   \n",
       "3     Daawat Pulav, Long Grains, Fluffy Basmati for ...   \n",
       "4     Tata Tea Gold | Assam teas with Gently Rolled ...   \n",
       "...                                                 ...   \n",
       "1291  Herbs N Root Arjuna Instant Green Tea | Blackc...   \n",
       "1292  HEALTHY PANDA Natural Desi Immunity Booster Ka...   \n",
       "1293  Namhah Moonshine Peach Muscatel Loose Tea with...   \n",
       "1294  Grenera Moringa Herbal Infusion 20 Tea Bags | ...   \n",
       "1295  Bakefat India Premium Flavoured Coffee Cubes-1...   \n",
       "\n",
       "                main_category                 sub_category  \\\n",
       "0     grocery & gourmet foods  All Grocery & Gourmet Foods   \n",
       "1     grocery & gourmet foods  All Grocery & Gourmet Foods   \n",
       "2     grocery & gourmet foods  All Grocery & Gourmet Foods   \n",
       "3     grocery & gourmet foods  All Grocery & Gourmet Foods   \n",
       "4     grocery & gourmet foods  All Grocery & Gourmet Foods   \n",
       "...                       ...                          ...   \n",
       "1291  grocery & gourmet foods      Coffee, Tea & Beverages   \n",
       "1292  grocery & gourmet foods      Coffee, Tea & Beverages   \n",
       "1293  grocery & gourmet foods      Coffee, Tea & Beverages   \n",
       "1294  grocery & gourmet foods      Coffee, Tea & Beverages   \n",
       "1295  grocery & gourmet foods      Coffee, Tea & Beverages   \n",
       "\n",
       "                                                  image  \\\n",
       "0     https://m.media-amazon.com/images/I/71f5UPOWDq...   \n",
       "1     https://m.media-amazon.com/images/I/614FIW5c6H...   \n",
       "2     https://m.media-amazon.com/images/I/61rBhkTJ6E...   \n",
       "3     https://m.media-amazon.com/images/I/71UO6eXC1Q...   \n",
       "4     https://m.media-amazon.com/images/I/51kEujuYlp...   \n",
       "...                                                 ...   \n",
       "1291  https://m.media-amazon.com/images/I/61Fa6odXRv...   \n",
       "1292  https://m.media-amazon.com/images/I/61cdLISpqk...   \n",
       "1293  https://m.media-amazon.com/images/I/61O2lEQehm...   \n",
       "1294  https://m.media-amazon.com/images/I/71yHtYp2-e...   \n",
       "1295  https://m.media-amazon.com/images/I/61Jc3Qg5DV...   \n",
       "\n",
       "                                                   link ratings no_of_ratings  \\\n",
       "0     https://www.amazon.in/Nutraj-California-Walnut...     3.9         6,081   \n",
       "1     https://www.amazon.in/Bournvita-Magic-Chocolat...     4.3         8,481   \n",
       "2     https://www.amazon.in/Sugarfree-Green-100-Natu...     4.3         1,585   \n",
       "3     https://www.amazon.in/Daawat-Pulav-Basmati-Ric...     4.3         3,907   \n",
       "4     https://www.amazon.in/Tata-Tea-Gold-500g/dp/B0...     4.4        15,528   \n",
       "...                                                 ...     ...           ...   \n",
       "1291  https://www.amazon.in/Herbs-Root-Blackcurrant-...     4.8            36   \n",
       "1292  https://www.amazon.in/HEALTHY-PANDA-immunity-a...     4.4             3   \n",
       "1293  https://www.amazon.in/Moonshine-Muscatel-Handm...     4.6             6   \n",
       "1294  https://www.amazon.in/Grenera-Moringa-Herbal-I...     4.0            84   \n",
       "1295  https://www.amazon.in/Bakefat-India-Flavoured-...     1.0             1   \n",
       "\n",
       "     discount_price actual_price  \n",
       "0              ₹686         ₹998  \n",
       "1               NaN         ₹353  \n",
       "2              ₹162         ₹170  \n",
       "3              ₹138         ₹139  \n",
       "4              ₹283         ₹295  \n",
       "...             ...          ...  \n",
       "1291           ₹275         ₹350  \n",
       "1292           ₹209         ₹479  \n",
       "1293            NaN         ₹349  \n",
       "1294           ₹165         ₹175  \n",
       "1295           ₹249         ₹299  \n",
       "\n",
       "[2256 rows x 9 columns]"
      ]
     },
     "execution_count": 17,
     "metadata": {},
     "output_type": "execute_result"
    }
   ],
   "source": [
    "food_drink =  pd.concat([food, drink])\n",
    "food_drink"
   ]
  },
  {
   "cell_type": "markdown",
   "id": "e2c62196-d10c-4173-bc1f-d04ec2cf5dd2",
   "metadata": {},
   "source": [
    "# Deleting Columns"
   ]
  },
  {
   "cell_type": "code",
   "execution_count": 19,
   "id": "3914aeac-89e9-4fb9-984a-d7dda85c08ad",
   "metadata": {},
   "outputs": [
    {
     "data": {
      "text/html": [
       "<div>\n",
       "<style scoped>\n",
       "    .dataframe tbody tr th:only-of-type {\n",
       "        vertical-align: middle;\n",
       "    }\n",
       "\n",
       "    .dataframe tbody tr th {\n",
       "        vertical-align: top;\n",
       "    }\n",
       "\n",
       "    .dataframe thead th {\n",
       "        text-align: right;\n",
       "    }\n",
       "</style>\n",
       "<table border=\"1\" class=\"dataframe\">\n",
       "  <thead>\n",
       "    <tr style=\"text-align: right;\">\n",
       "      <th></th>\n",
       "      <th>name</th>\n",
       "      <th>sub_category</th>\n",
       "      <th>ratings</th>\n",
       "      <th>no_of_ratings</th>\n",
       "      <th>discount_price</th>\n",
       "      <th>actual_price</th>\n",
       "    </tr>\n",
       "  </thead>\n",
       "  <tbody>\n",
       "    <tr>\n",
       "      <th>0</th>\n",
       "      <td>Nutraj 100% Natural Dried Premium California W...</td>\n",
       "      <td>All Grocery &amp; Gourmet Foods</td>\n",
       "      <td>3.9</td>\n",
       "      <td>6,081</td>\n",
       "      <td>₹686</td>\n",
       "      <td>₹998</td>\n",
       "    </tr>\n",
       "    <tr>\n",
       "      <th>1</th>\n",
       "      <td>Cadbury Bournvita 5 Star Magic Health Drink, 7...</td>\n",
       "      <td>All Grocery &amp; Gourmet Foods</td>\n",
       "      <td>4.3</td>\n",
       "      <td>8,481</td>\n",
       "      <td>NaN</td>\n",
       "      <td>₹353</td>\n",
       "    </tr>\n",
       "    <tr>\n",
       "      <th>2</th>\n",
       "      <td>Sugar Free Green Natural Stevia Jar(200 g)</td>\n",
       "      <td>All Grocery &amp; Gourmet Foods</td>\n",
       "      <td>4.3</td>\n",
       "      <td>1,585</td>\n",
       "      <td>₹162</td>\n",
       "      <td>₹170</td>\n",
       "    </tr>\n",
       "    <tr>\n",
       "      <th>3</th>\n",
       "      <td>Daawat Pulav, Long Grains, Fluffy Basmati for ...</td>\n",
       "      <td>All Grocery &amp; Gourmet Foods</td>\n",
       "      <td>4.3</td>\n",
       "      <td>3,907</td>\n",
       "      <td>₹138</td>\n",
       "      <td>₹139</td>\n",
       "    </tr>\n",
       "    <tr>\n",
       "      <th>4</th>\n",
       "      <td>Tata Tea Gold | Assam teas with Gently Rolled ...</td>\n",
       "      <td>All Grocery &amp; Gourmet Foods</td>\n",
       "      <td>4.4</td>\n",
       "      <td>15,528</td>\n",
       "      <td>₹283</td>\n",
       "      <td>₹295</td>\n",
       "    </tr>\n",
       "    <tr>\n",
       "      <th>...</th>\n",
       "      <td>...</td>\n",
       "      <td>...</td>\n",
       "      <td>...</td>\n",
       "      <td>...</td>\n",
       "      <td>...</td>\n",
       "      <td>...</td>\n",
       "    </tr>\n",
       "    <tr>\n",
       "      <th>1291</th>\n",
       "      <td>Herbs N Root Arjuna Instant Green Tea | Blackc...</td>\n",
       "      <td>Coffee, Tea &amp; Beverages</td>\n",
       "      <td>4.8</td>\n",
       "      <td>36</td>\n",
       "      <td>₹275</td>\n",
       "      <td>₹350</td>\n",
       "    </tr>\n",
       "    <tr>\n",
       "      <th>1292</th>\n",
       "      <td>HEALTHY PANDA Natural Desi Immunity Booster Ka...</td>\n",
       "      <td>Coffee, Tea &amp; Beverages</td>\n",
       "      <td>4.4</td>\n",
       "      <td>3</td>\n",
       "      <td>₹209</td>\n",
       "      <td>₹479</td>\n",
       "    </tr>\n",
       "    <tr>\n",
       "      <th>1293</th>\n",
       "      <td>Namhah Moonshine Peach Muscatel Loose Tea with...</td>\n",
       "      <td>Coffee, Tea &amp; Beverages</td>\n",
       "      <td>4.6</td>\n",
       "      <td>6</td>\n",
       "      <td>NaN</td>\n",
       "      <td>₹349</td>\n",
       "    </tr>\n",
       "    <tr>\n",
       "      <th>1294</th>\n",
       "      <td>Grenera Moringa Herbal Infusion 20 Tea Bags | ...</td>\n",
       "      <td>Coffee, Tea &amp; Beverages</td>\n",
       "      <td>4.0</td>\n",
       "      <td>84</td>\n",
       "      <td>₹165</td>\n",
       "      <td>₹175</td>\n",
       "    </tr>\n",
       "    <tr>\n",
       "      <th>1295</th>\n",
       "      <td>Bakefat India Premium Flavoured Coffee Cubes-1...</td>\n",
       "      <td>Coffee, Tea &amp; Beverages</td>\n",
       "      <td>1.0</td>\n",
       "      <td>1</td>\n",
       "      <td>₹249</td>\n",
       "      <td>₹299</td>\n",
       "    </tr>\n",
       "  </tbody>\n",
       "</table>\n",
       "<p>2256 rows × 6 columns</p>\n",
       "</div>"
      ],
      "text/plain": [
       "                                                   name  \\\n",
       "0     Nutraj 100% Natural Dried Premium California W...   \n",
       "1     Cadbury Bournvita 5 Star Magic Health Drink, 7...   \n",
       "2            Sugar Free Green Natural Stevia Jar(200 g)   \n",
       "3     Daawat Pulav, Long Grains, Fluffy Basmati for ...   \n",
       "4     Tata Tea Gold | Assam teas with Gently Rolled ...   \n",
       "...                                                 ...   \n",
       "1291  Herbs N Root Arjuna Instant Green Tea | Blackc...   \n",
       "1292  HEALTHY PANDA Natural Desi Immunity Booster Ka...   \n",
       "1293  Namhah Moonshine Peach Muscatel Loose Tea with...   \n",
       "1294  Grenera Moringa Herbal Infusion 20 Tea Bags | ...   \n",
       "1295  Bakefat India Premium Flavoured Coffee Cubes-1...   \n",
       "\n",
       "                     sub_category ratings no_of_ratings discount_price  \\\n",
       "0     All Grocery & Gourmet Foods     3.9         6,081           ₹686   \n",
       "1     All Grocery & Gourmet Foods     4.3         8,481            NaN   \n",
       "2     All Grocery & Gourmet Foods     4.3         1,585           ₹162   \n",
       "3     All Grocery & Gourmet Foods     4.3         3,907           ₹138   \n",
       "4     All Grocery & Gourmet Foods     4.4        15,528           ₹283   \n",
       "...                           ...     ...           ...            ...   \n",
       "1291      Coffee, Tea & Beverages     4.8            36           ₹275   \n",
       "1292      Coffee, Tea & Beverages     4.4             3           ₹209   \n",
       "1293      Coffee, Tea & Beverages     4.6             6            NaN   \n",
       "1294      Coffee, Tea & Beverages     4.0            84           ₹165   \n",
       "1295      Coffee, Tea & Beverages     1.0             1           ₹249   \n",
       "\n",
       "     actual_price  \n",
       "0            ₹998  \n",
       "1            ₹353  \n",
       "2            ₹170  \n",
       "3            ₹139  \n",
       "4            ₹295  \n",
       "...           ...  \n",
       "1291         ₹350  \n",
       "1292         ₹479  \n",
       "1293         ₹349  \n",
       "1294         ₹175  \n",
       "1295         ₹299  \n",
       "\n",
       "[2256 rows x 6 columns]"
      ]
     },
     "execution_count": 19,
     "metadata": {},
     "output_type": "execute_result"
    }
   ],
   "source": [
    "# Columns to drop\n",
    "columns_to_drop = ['main_category', 'image', 'link']\n",
    "\n",
    "# Drop columns only if they exist in the dataframe\n",
    "food_drink.drop(columns=[col for col in columns_to_drop if col in food_drink.columns], inplace=True)\n",
    "\n",
    "# Display the modified DataFrame\n",
    "food_drink"
   ]
  },
  {
   "cell_type": "code",
   "execution_count": 20,
   "id": "9eeeecea-7f3f-4b21-8967-70bf46460466",
   "metadata": {},
   "outputs": [
    {
     "data": {
      "text/plain": [
       "name              object\n",
       "sub_category      object\n",
       "ratings           object\n",
       "no_of_ratings     object\n",
       "discount_price    object\n",
       "actual_price      object\n",
       "dtype: object"
      ]
     },
     "execution_count": 20,
     "metadata": {},
     "output_type": "execute_result"
    }
   ],
   "source": [
    "food_drink.dtypes"
   ]
  },
  {
   "cell_type": "code",
   "execution_count": 21,
   "id": "23e59437-b252-4d35-a590-bcf0c9b5f574",
   "metadata": {},
   "outputs": [
    {
     "data": {
      "text/plain": [
       "0       3.9\n",
       "1       4.3\n",
       "2       4.3\n",
       "3       4.3\n",
       "4       4.4\n",
       "       ... \n",
       "1291    4.8\n",
       "1292    4.4\n",
       "1293    4.6\n",
       "1294    4.0\n",
       "1295    1.0\n",
       "Name: ratings, Length: 2082, dtype: object"
      ]
     },
     "execution_count": 21,
     "metadata": {},
     "output_type": "execute_result"
    }
   ],
   "source": [
    "food_drink = food_drink.dropna(subset=['ratings'])\n",
    "\n",
    "food_drink.ratings"
   ]
  },
  {
   "cell_type": "code",
   "execution_count": 22,
   "id": "38cbb5bb-be61-4a29-a6ac-cf7228106cba",
   "metadata": {},
   "outputs": [
    {
     "data": {
      "text/plain": [
       "0       ₹998\n",
       "1       ₹353\n",
       "2       ₹170\n",
       "3       ₹139\n",
       "4       ₹295\n",
       "        ... \n",
       "1291    ₹350\n",
       "1292    ₹479\n",
       "1293    ₹349\n",
       "1294    ₹175\n",
       "1295    ₹299\n",
       "Name: actual_price, Length: 2068, dtype: object"
      ]
     },
     "execution_count": 22,
     "metadata": {},
     "output_type": "execute_result"
    }
   ],
   "source": [
    "food_drink = food_drink.dropna(subset=['actual_price'])\n",
    "\n",
    "food_drink.actual_price"
   ]
  },
  {
   "cell_type": "code",
   "execution_count": 23,
   "id": "668ced2f-5ba1-434e-8a42-eb7cf57c6a89",
   "metadata": {},
   "outputs": [
    {
     "data": {
      "text/plain": [
       "name                0\n",
       "sub_category        0\n",
       "ratings             0\n",
       "no_of_ratings       0\n",
       "discount_price    495\n",
       "actual_price        0\n",
       "dtype: int64"
      ]
     },
     "execution_count": 23,
     "metadata": {},
     "output_type": "execute_result"
    }
   ],
   "source": [
    "food_drink.isna().sum()"
   ]
  },
  {
   "cell_type": "code",
   "execution_count": 24,
   "id": "4a2c65cb-9d7d-4556-a256-9999fbcf157f",
   "metadata": {},
   "outputs": [
    {
     "data": {
      "text/html": [
       "<div>\n",
       "<style scoped>\n",
       "    .dataframe tbody tr th:only-of-type {\n",
       "        vertical-align: middle;\n",
       "    }\n",
       "\n",
       "    .dataframe tbody tr th {\n",
       "        vertical-align: top;\n",
       "    }\n",
       "\n",
       "    .dataframe thead th {\n",
       "        text-align: right;\n",
       "    }\n",
       "</style>\n",
       "<table border=\"1\" class=\"dataframe\">\n",
       "  <thead>\n",
       "    <tr style=\"text-align: right;\">\n",
       "      <th></th>\n",
       "      <th>no_of_ratings</th>\n",
       "    </tr>\n",
       "  </thead>\n",
       "  <tbody>\n",
       "    <tr>\n",
       "      <th>0</th>\n",
       "      <td>6081</td>\n",
       "    </tr>\n",
       "    <tr>\n",
       "      <th>1</th>\n",
       "      <td>8481</td>\n",
       "    </tr>\n",
       "    <tr>\n",
       "      <th>2</th>\n",
       "      <td>1585</td>\n",
       "    </tr>\n",
       "    <tr>\n",
       "      <th>3</th>\n",
       "      <td>3907</td>\n",
       "    </tr>\n",
       "    <tr>\n",
       "      <th>4</th>\n",
       "      <td>15528</td>\n",
       "    </tr>\n",
       "    <tr>\n",
       "      <th>...</th>\n",
       "      <td>...</td>\n",
       "    </tr>\n",
       "    <tr>\n",
       "      <th>1291</th>\n",
       "      <td>36</td>\n",
       "    </tr>\n",
       "    <tr>\n",
       "      <th>1292</th>\n",
       "      <td>3</td>\n",
       "    </tr>\n",
       "    <tr>\n",
       "      <th>1293</th>\n",
       "      <td>6</td>\n",
       "    </tr>\n",
       "    <tr>\n",
       "      <th>1294</th>\n",
       "      <td>84</td>\n",
       "    </tr>\n",
       "    <tr>\n",
       "      <th>1295</th>\n",
       "      <td>1</td>\n",
       "    </tr>\n",
       "  </tbody>\n",
       "</table>\n",
       "<p>2068 rows × 1 columns</p>\n",
       "</div>"
      ],
      "text/plain": [
       "      no_of_ratings\n",
       "0              6081\n",
       "1              8481\n",
       "2              1585\n",
       "3              3907\n",
       "4             15528\n",
       "...             ...\n",
       "1291             36\n",
       "1292              3\n",
       "1293              6\n",
       "1294             84\n",
       "1295              1\n",
       "\n",
       "[2068 rows x 1 columns]"
      ]
     },
     "metadata": {},
     "output_type": "display_data"
    }
   ],
   "source": [
    "# Replace NaN values with '0'\n",
    "food_drink['no_of_ratings'] = food_drink['no_of_ratings'].fillna('0')\n",
    "\n",
    "# Replace non-numeric values with '0'\n",
    "food_drink['no_of_ratings'] =food_drink['no_of_ratings'].apply(lambda x: '0' if not str(x).replace(',', '').isdigit() else x)\n",
    "\n",
    "# Remove commas and convert to integer\n",
    "food_drink['no_of_ratings'] = food_drink['no_of_ratings'].str.replace(',', '').astype(int)\n",
    "\n",
    "# Display the cleaned data\n",
    "display(food_drink[['no_of_ratings']])"
   ]
  },
  {
   "cell_type": "code",
   "execution_count": 25,
   "id": "9633faea-d5a6-458b-a3b1-9aa0e6b95f05",
   "metadata": {},
   "outputs": [],
   "source": [
    "# Remove '₹' sign from 'discount_price' and 'actual_price' columns\n",
    "food_drink['discount_price'] = food_drink['discount_price'].str.replace('₹', '')\n",
    "food_drink['actual_price'] = food_drink['actual_price'].str.replace('₹', '')"
   ]
  },
  {
   "cell_type": "code",
   "execution_count": 26,
   "id": "b9a717bb-8a3e-48e1-9916-0a6ed1789d5f",
   "metadata": {},
   "outputs": [
    {
     "data": {
      "text/plain": [
       "array(['998', '353', '170', '139', '295', '290', '640', '399', '55',\n",
       "       '140', '570', '650', '70', '235', '73', '1,070', '25', '600',\n",
       "       '845', '30', '325', '95', '80', '145', '740', '150', '955', '848',\n",
       "       '85', '280', '173', '40', '89', '50', '395', '400', '210', '219',\n",
       "       '580', '750', '75', '595', '165', '500', '1,499', '199', '135',\n",
       "       '299', '100', '130', '168', '180', '190', '250', '198', '725',\n",
       "       '200', '28', '38,000', '260', '700', '525', '184', '215', '899',\n",
       "       '425', '245', '749', '106', '240', '999', '390', '3,999', '646',\n",
       "       '599', '799', '47', '475', '350', '155', '225', '195', '690',\n",
       "       '149', '249', '300', '35', '101', '850', '99', '20', '65', '62',\n",
       "       '396', '120', '435', '550', '218', '679', '480', '1,300', '2,400',\n",
       "       '1,495', '349', '220', '465', '405', '279', '545', '15', '800',\n",
       "       '370', '1,680', '2,599', '549', '110', '315', '495', '189', '248',\n",
       "       '1,299', '1,280', '450', '5,600', '160', '60', '125', '3,599',\n",
       "       '109', '335', '365', '68', '282', '27', '275', '90', '205', '78',\n",
       "       '790', '925', '6,000', '695', '265', '420', '660', '1,200', '610',\n",
       "       '1,400', '440', '720', '36', '1,799', '1,796', '118', '479', '895',\n",
       "       '699', '1,500', '285', '298', '499', '2,000', '1,250', '625',\n",
       "       '4,999', '345', '53', '415', '175', '305', '792', '179', '320',\n",
       "       '270', '58', '359', '585', '255', '57', '3,575', '82', '115',\n",
       "       '2,100', '498', '355', '900', '49', '31', '88', '375', '920',\n",
       "       '429', '369', '589', '470', '340', '379', '209', '590', '380',\n",
       "       '385', '693', '1,650', '3,400', '949', '230', '1,600', '1,699',\n",
       "       '2,475', '360', '624', '1,800', '540', '222', '1,696', '98', '449',\n",
       "       '490', '455', '167', '144', '1,485', '1,599', '1,199', '649',\n",
       "       '388', '4,476', '239', '236', '950', '310', '777', '1,000',\n",
       "       '2,049', '1,185', '760', '238', '159', '448', '330', '329', '655',\n",
       "       '2,500', '1,900', '1,598', '819', '129', '119', '575', '258',\n",
       "       '1,273', '2,999', '348', '297', '7,499', '1,144', '897', '510',\n",
       "       '45', '779', '254', '96', '1,349', '10', '234', '598', '3,900',\n",
       "       '849', '445', '676', '398', '410', '186', '3,500', '596', '196',\n",
       "       '141', '74', '8,669', '769', '314', '1,100', '785', '3,000', '520',\n",
       "       '105', '1,197', '272', '825', '312', '1,950', '1,180', '174',\n",
       "       '718', '252', '1,190', '678', '597', '1,497', '352', '241', '194',\n",
       "       '710', '735', '4,240', '185', '840', '430', '560', '875', '2,699',\n",
       "       '259', '960', '273', '1,999', '4,500', '663', '778', '1,380',\n",
       "       '381', '930', '94', '530', '880', '1,728', '336', '1,590', '1,360',\n",
       "       '414', '284', '675', '2,499', '269', '460', '1,947', '1,750',\n",
       "       '1,510', '3,550', '3,499', '2,139', '1,460', '339', '2,199',\n",
       "       '1,245', '1,080', '4,899', '1,390', '1,440', '795', '2,360',\n",
       "       '5,469', '2,232', '582', '534', '1,068', '1,899', '1,488', '870',\n",
       "       '1,675', '745', '674', '551', '594', '770', '2,697', '2,425',\n",
       "       '1,099', '565', '890', '630', '798', '581', '1,399', '788', '519',\n",
       "       '1,090', '505', '2,396', '552', '12,000', '1,833', '546', '152',\n",
       "       '748', '419', '444', '4,000', '389', '620', '680', '7,000', '698',\n",
       "       '442', '1,155', '468', '10,000', '615', '373', '1,755', '536',\n",
       "       '8,500', '1,209', '481', '1,020', '522', '3,300', '268', '685',\n",
       "       '358', '3,110'], dtype=object)"
      ]
     },
     "execution_count": 26,
     "metadata": {},
     "output_type": "execute_result"
    }
   ],
   "source": [
    "food_drink['actual_price'].unique()"
   ]
  },
  {
   "cell_type": "code",
   "execution_count": 27,
   "id": "a852c146-8998-413f-a41a-3f82ba1078d8",
   "metadata": {},
   "outputs": [
    {
     "data": {
      "text/html": [
       "<div>\n",
       "<style scoped>\n",
       "    .dataframe tbody tr th:only-of-type {\n",
       "        vertical-align: middle;\n",
       "    }\n",
       "\n",
       "    .dataframe tbody tr th {\n",
       "        vertical-align: top;\n",
       "    }\n",
       "\n",
       "    .dataframe thead th {\n",
       "        text-align: right;\n",
       "    }\n",
       "</style>\n",
       "<table border=\"1\" class=\"dataframe\">\n",
       "  <thead>\n",
       "    <tr style=\"text-align: right;\">\n",
       "      <th></th>\n",
       "      <th>discount_price</th>\n",
       "    </tr>\n",
       "  </thead>\n",
       "  <tbody>\n",
       "    <tr>\n",
       "      <th>0</th>\n",
       "      <td>686.0</td>\n",
       "    </tr>\n",
       "    <tr>\n",
       "      <th>1</th>\n",
       "      <td>0.0</td>\n",
       "    </tr>\n",
       "    <tr>\n",
       "      <th>2</th>\n",
       "      <td>162.0</td>\n",
       "    </tr>\n",
       "    <tr>\n",
       "      <th>3</th>\n",
       "      <td>138.0</td>\n",
       "    </tr>\n",
       "    <tr>\n",
       "      <th>4</th>\n",
       "      <td>283.0</td>\n",
       "    </tr>\n",
       "    <tr>\n",
       "      <th>...</th>\n",
       "      <td>...</td>\n",
       "    </tr>\n",
       "    <tr>\n",
       "      <th>1291</th>\n",
       "      <td>275.0</td>\n",
       "    </tr>\n",
       "    <tr>\n",
       "      <th>1292</th>\n",
       "      <td>209.0</td>\n",
       "    </tr>\n",
       "    <tr>\n",
       "      <th>1293</th>\n",
       "      <td>0.0</td>\n",
       "    </tr>\n",
       "    <tr>\n",
       "      <th>1294</th>\n",
       "      <td>165.0</td>\n",
       "    </tr>\n",
       "    <tr>\n",
       "      <th>1295</th>\n",
       "      <td>249.0</td>\n",
       "    </tr>\n",
       "  </tbody>\n",
       "</table>\n",
       "<p>2068 rows × 1 columns</p>\n",
       "</div>"
      ],
      "text/plain": [
       "      discount_price\n",
       "0              686.0\n",
       "1                0.0\n",
       "2              162.0\n",
       "3              138.0\n",
       "4              283.0\n",
       "...              ...\n",
       "1291           275.0\n",
       "1292           209.0\n",
       "1293             0.0\n",
       "1294           165.0\n",
       "1295           249.0\n",
       "\n",
       "[2068 rows x 1 columns]"
      ]
     },
     "metadata": {},
     "output_type": "display_data"
    }
   ],
   "source": [
    "# Replace NaN values with '0'\n",
    "food_drink['discount_price'] = food_drink['discount_price'].fillna('0')\n",
    "\n",
    "# Replace non-numeric values with '0'\n",
    "food_drink['discount_price'] = food_drink['discount_price'].apply(lambda x:  float(x.replace(',','')) )\n",
    "\n",
    "# Remove commas and convert to integer\n",
    "#food_drink['discount_price'] = food_drink['discount_price'].str.replace(',', '').astype(int)\n",
    "\n",
    "# Display the cleaned data\n",
    "display(food_drink[['discount_price']])"
   ]
  },
  {
   "cell_type": "code",
   "execution_count": 28,
   "id": "fbbf8c40-a414-46b1-916e-35342960fd7d",
   "metadata": {},
   "outputs": [
    {
     "data": {
      "text/html": [
       "<div>\n",
       "<style scoped>\n",
       "    .dataframe tbody tr th:only-of-type {\n",
       "        vertical-align: middle;\n",
       "    }\n",
       "\n",
       "    .dataframe tbody tr th {\n",
       "        vertical-align: top;\n",
       "    }\n",
       "\n",
       "    .dataframe thead th {\n",
       "        text-align: right;\n",
       "    }\n",
       "</style>\n",
       "<table border=\"1\" class=\"dataframe\">\n",
       "  <thead>\n",
       "    <tr style=\"text-align: right;\">\n",
       "      <th></th>\n",
       "      <th>actual_price</th>\n",
       "    </tr>\n",
       "  </thead>\n",
       "  <tbody>\n",
       "    <tr>\n",
       "      <th>0</th>\n",
       "      <td>998.0</td>\n",
       "    </tr>\n",
       "    <tr>\n",
       "      <th>1</th>\n",
       "      <td>353.0</td>\n",
       "    </tr>\n",
       "    <tr>\n",
       "      <th>2</th>\n",
       "      <td>170.0</td>\n",
       "    </tr>\n",
       "    <tr>\n",
       "      <th>3</th>\n",
       "      <td>139.0</td>\n",
       "    </tr>\n",
       "    <tr>\n",
       "      <th>4</th>\n",
       "      <td>295.0</td>\n",
       "    </tr>\n",
       "    <tr>\n",
       "      <th>...</th>\n",
       "      <td>...</td>\n",
       "    </tr>\n",
       "    <tr>\n",
       "      <th>1291</th>\n",
       "      <td>350.0</td>\n",
       "    </tr>\n",
       "    <tr>\n",
       "      <th>1292</th>\n",
       "      <td>479.0</td>\n",
       "    </tr>\n",
       "    <tr>\n",
       "      <th>1293</th>\n",
       "      <td>349.0</td>\n",
       "    </tr>\n",
       "    <tr>\n",
       "      <th>1294</th>\n",
       "      <td>175.0</td>\n",
       "    </tr>\n",
       "    <tr>\n",
       "      <th>1295</th>\n",
       "      <td>299.0</td>\n",
       "    </tr>\n",
       "  </tbody>\n",
       "</table>\n",
       "<p>2068 rows × 1 columns</p>\n",
       "</div>"
      ],
      "text/plain": [
       "      actual_price\n",
       "0            998.0\n",
       "1            353.0\n",
       "2            170.0\n",
       "3            139.0\n",
       "4            295.0\n",
       "...            ...\n",
       "1291         350.0\n",
       "1292         479.0\n",
       "1293         349.0\n",
       "1294         175.0\n",
       "1295         299.0\n",
       "\n",
       "[2068 rows x 1 columns]"
      ]
     },
     "metadata": {},
     "output_type": "display_data"
    }
   ],
   "source": [
    "# Replace NaN values with '0'\n",
    "food_drink['actual_price'] = food_drink['actual_price'].fillna('0')\n",
    "\n",
    "# Replace non-numeric values with '0'\n",
    "food_drink['actual_price'] = food_drink['actual_price'].apply(lambda x:  float(x.replace(',','')) )\n",
    "\n",
    "# Remove commas and convert to integer\n",
    "#food_drink['discount_price'] = food_drink['discount_price'].str.replace(',', '').astype(int)\n",
    "\n",
    "# Display the cleaned data\n",
    "display(food_drink[['actual_price']])"
   ]
  },
  {
   "cell_type": "markdown",
   "id": "820cb146-1eed-41bc-b948-9fd24567c852",
   "metadata": {},
   "source": [
    "# Data Type Conversion"
   ]
  },
  {
   "cell_type": "code",
   "execution_count": 30,
   "id": "7d531047-877e-4d23-83a1-3a3fc461d60f",
   "metadata": {},
   "outputs": [
    {
     "data": {
      "text/html": [
       "<div>\n",
       "<style scoped>\n",
       "    .dataframe tbody tr th:only-of-type {\n",
       "        vertical-align: middle;\n",
       "    }\n",
       "\n",
       "    .dataframe tbody tr th {\n",
       "        vertical-align: top;\n",
       "    }\n",
       "\n",
       "    .dataframe thead th {\n",
       "        text-align: right;\n",
       "    }\n",
       "</style>\n",
       "<table border=\"1\" class=\"dataframe\">\n",
       "  <thead>\n",
       "    <tr style=\"text-align: right;\">\n",
       "      <th></th>\n",
       "      <th>name</th>\n",
       "      <th>sub_category</th>\n",
       "      <th>ratings</th>\n",
       "      <th>no_of_ratings</th>\n",
       "      <th>discount_price</th>\n",
       "      <th>actual_price</th>\n",
       "    </tr>\n",
       "  </thead>\n",
       "  <tbody>\n",
       "    <tr>\n",
       "      <th>0</th>\n",
       "      <td>Nutraj 100% Natural Dried Premium California W...</td>\n",
       "      <td>All Grocery &amp; Gourmet Foods</td>\n",
       "      <td>3.9</td>\n",
       "      <td>6081</td>\n",
       "      <td>686.0</td>\n",
       "      <td>998.0</td>\n",
       "    </tr>\n",
       "    <tr>\n",
       "      <th>1</th>\n",
       "      <td>Cadbury Bournvita 5 Star Magic Health Drink, 7...</td>\n",
       "      <td>All Grocery &amp; Gourmet Foods</td>\n",
       "      <td>4.3</td>\n",
       "      <td>8481</td>\n",
       "      <td>0.0</td>\n",
       "      <td>353.0</td>\n",
       "    </tr>\n",
       "    <tr>\n",
       "      <th>2</th>\n",
       "      <td>Sugar Free Green Natural Stevia Jar(200 g)</td>\n",
       "      <td>All Grocery &amp; Gourmet Foods</td>\n",
       "      <td>4.3</td>\n",
       "      <td>1585</td>\n",
       "      <td>162.0</td>\n",
       "      <td>170.0</td>\n",
       "    </tr>\n",
       "    <tr>\n",
       "      <th>3</th>\n",
       "      <td>Daawat Pulav, Long Grains, Fluffy Basmati for ...</td>\n",
       "      <td>All Grocery &amp; Gourmet Foods</td>\n",
       "      <td>4.3</td>\n",
       "      <td>3907</td>\n",
       "      <td>138.0</td>\n",
       "      <td>139.0</td>\n",
       "    </tr>\n",
       "    <tr>\n",
       "      <th>4</th>\n",
       "      <td>Tata Tea Gold | Assam teas with Gently Rolled ...</td>\n",
       "      <td>All Grocery &amp; Gourmet Foods</td>\n",
       "      <td>4.4</td>\n",
       "      <td>15528</td>\n",
       "      <td>283.0</td>\n",
       "      <td>295.0</td>\n",
       "    </tr>\n",
       "    <tr>\n",
       "      <th>...</th>\n",
       "      <td>...</td>\n",
       "      <td>...</td>\n",
       "      <td>...</td>\n",
       "      <td>...</td>\n",
       "      <td>...</td>\n",
       "      <td>...</td>\n",
       "    </tr>\n",
       "    <tr>\n",
       "      <th>1291</th>\n",
       "      <td>Herbs N Root Arjuna Instant Green Tea | Blackc...</td>\n",
       "      <td>Coffee, Tea &amp; Beverages</td>\n",
       "      <td>4.8</td>\n",
       "      <td>36</td>\n",
       "      <td>275.0</td>\n",
       "      <td>350.0</td>\n",
       "    </tr>\n",
       "    <tr>\n",
       "      <th>1292</th>\n",
       "      <td>HEALTHY PANDA Natural Desi Immunity Booster Ka...</td>\n",
       "      <td>Coffee, Tea &amp; Beverages</td>\n",
       "      <td>4.4</td>\n",
       "      <td>3</td>\n",
       "      <td>209.0</td>\n",
       "      <td>479.0</td>\n",
       "    </tr>\n",
       "    <tr>\n",
       "      <th>1293</th>\n",
       "      <td>Namhah Moonshine Peach Muscatel Loose Tea with...</td>\n",
       "      <td>Coffee, Tea &amp; Beverages</td>\n",
       "      <td>4.6</td>\n",
       "      <td>6</td>\n",
       "      <td>0.0</td>\n",
       "      <td>349.0</td>\n",
       "    </tr>\n",
       "    <tr>\n",
       "      <th>1294</th>\n",
       "      <td>Grenera Moringa Herbal Infusion 20 Tea Bags | ...</td>\n",
       "      <td>Coffee, Tea &amp; Beverages</td>\n",
       "      <td>4.0</td>\n",
       "      <td>84</td>\n",
       "      <td>165.0</td>\n",
       "      <td>175.0</td>\n",
       "    </tr>\n",
       "    <tr>\n",
       "      <th>1295</th>\n",
       "      <td>Bakefat India Premium Flavoured Coffee Cubes-1...</td>\n",
       "      <td>Coffee, Tea &amp; Beverages</td>\n",
       "      <td>1.0</td>\n",
       "      <td>1</td>\n",
       "      <td>249.0</td>\n",
       "      <td>299.0</td>\n",
       "    </tr>\n",
       "  </tbody>\n",
       "</table>\n",
       "<p>2068 rows × 6 columns</p>\n",
       "</div>"
      ],
      "text/plain": [
       "                                                   name  \\\n",
       "0     Nutraj 100% Natural Dried Premium California W...   \n",
       "1     Cadbury Bournvita 5 Star Magic Health Drink, 7...   \n",
       "2            Sugar Free Green Natural Stevia Jar(200 g)   \n",
       "3     Daawat Pulav, Long Grains, Fluffy Basmati for ...   \n",
       "4     Tata Tea Gold | Assam teas with Gently Rolled ...   \n",
       "...                                                 ...   \n",
       "1291  Herbs N Root Arjuna Instant Green Tea | Blackc...   \n",
       "1292  HEALTHY PANDA Natural Desi Immunity Booster Ka...   \n",
       "1293  Namhah Moonshine Peach Muscatel Loose Tea with...   \n",
       "1294  Grenera Moringa Herbal Infusion 20 Tea Bags | ...   \n",
       "1295  Bakefat India Premium Flavoured Coffee Cubes-1...   \n",
       "\n",
       "                     sub_category ratings  no_of_ratings  discount_price  \\\n",
       "0     All Grocery & Gourmet Foods     3.9           6081           686.0   \n",
       "1     All Grocery & Gourmet Foods     4.3           8481             0.0   \n",
       "2     All Grocery & Gourmet Foods     4.3           1585           162.0   \n",
       "3     All Grocery & Gourmet Foods     4.3           3907           138.0   \n",
       "4     All Grocery & Gourmet Foods     4.4          15528           283.0   \n",
       "...                           ...     ...            ...             ...   \n",
       "1291      Coffee, Tea & Beverages     4.8             36           275.0   \n",
       "1292      Coffee, Tea & Beverages     4.4              3           209.0   \n",
       "1293      Coffee, Tea & Beverages     4.6              6             0.0   \n",
       "1294      Coffee, Tea & Beverages     4.0             84           165.0   \n",
       "1295      Coffee, Tea & Beverages     1.0              1           249.0   \n",
       "\n",
       "      actual_price  \n",
       "0            998.0  \n",
       "1            353.0  \n",
       "2            170.0  \n",
       "3            139.0  \n",
       "4            295.0  \n",
       "...            ...  \n",
       "1291         350.0  \n",
       "1292         479.0  \n",
       "1293         349.0  \n",
       "1294         175.0  \n",
       "1295         299.0  \n",
       "\n",
       "[2068 rows x 6 columns]"
      ]
     },
     "execution_count": 30,
     "metadata": {},
     "output_type": "execute_result"
    }
   ],
   "source": [
    "food_drink"
   ]
  },
  {
   "cell_type": "code",
   "execution_count": 31,
   "id": "df49ef06-7cce-4085-b64e-d79a8872d148",
   "metadata": {},
   "outputs": [
    {
     "data": {
      "text/html": [
       "<div>\n",
       "<style scoped>\n",
       "    .dataframe tbody tr th:only-of-type {\n",
       "        vertical-align: middle;\n",
       "    }\n",
       "\n",
       "    .dataframe tbody tr th {\n",
       "        vertical-align: top;\n",
       "    }\n",
       "\n",
       "    .dataframe thead th {\n",
       "        text-align: right;\n",
       "    }\n",
       "</style>\n",
       "<table border=\"1\" class=\"dataframe\">\n",
       "  <thead>\n",
       "    <tr style=\"text-align: right;\">\n",
       "      <th></th>\n",
       "      <th>discount_price</th>\n",
       "      <th>actual_price</th>\n",
       "    </tr>\n",
       "  </thead>\n",
       "  <tbody>\n",
       "    <tr>\n",
       "      <th>0</th>\n",
       "      <td>686.0</td>\n",
       "      <td>998.0</td>\n",
       "    </tr>\n",
       "    <tr>\n",
       "      <th>1</th>\n",
       "      <td>0.0</td>\n",
       "      <td>353.0</td>\n",
       "    </tr>\n",
       "    <tr>\n",
       "      <th>2</th>\n",
       "      <td>162.0</td>\n",
       "      <td>170.0</td>\n",
       "    </tr>\n",
       "    <tr>\n",
       "      <th>3</th>\n",
       "      <td>138.0</td>\n",
       "      <td>139.0</td>\n",
       "    </tr>\n",
       "    <tr>\n",
       "      <th>4</th>\n",
       "      <td>283.0</td>\n",
       "      <td>295.0</td>\n",
       "    </tr>\n",
       "  </tbody>\n",
       "</table>\n",
       "</div>"
      ],
      "text/plain": [
       "   discount_price  actual_price\n",
       "0           686.0         998.0\n",
       "1             0.0         353.0\n",
       "2           162.0         170.0\n",
       "3           138.0         139.0\n",
       "4           283.0         295.0"
      ]
     },
     "metadata": {},
     "output_type": "display_data"
    }
   ],
   "source": [
    "# Display the first few rows to confirm the changes\n",
    "display(food_drink[['discount_price', 'actual_price']].round(1).head())"
   ]
  },
  {
   "cell_type": "code",
   "execution_count": 32,
   "id": "ef6bb897-6d0c-4348-887e-6b0c5ed70e69",
   "metadata": {},
   "outputs": [
    {
     "data": {
      "text/plain": [
       "name              0.0\n",
       "sub_category      0.0\n",
       "ratings           0.0\n",
       "no_of_ratings     0.0\n",
       "discount_price    0.0\n",
       "actual_price      0.0\n",
       "dtype: float64"
      ]
     },
     "execution_count": 32,
     "metadata": {},
     "output_type": "execute_result"
    }
   ],
   "source": [
    "food_drink.isna().sum() / food_drink.shape[0]"
   ]
  },
  {
   "cell_type": "code",
   "execution_count": 33,
   "id": "5e8a7ed7-d8d3-4fd0-bf9c-f4b42d85146c",
   "metadata": {},
   "outputs": [
    {
     "data": {
      "text/html": [
       "<div>\n",
       "<style scoped>\n",
       "    .dataframe tbody tr th:only-of-type {\n",
       "        vertical-align: middle;\n",
       "    }\n",
       "\n",
       "    .dataframe tbody tr th {\n",
       "        vertical-align: top;\n",
       "    }\n",
       "\n",
       "    .dataframe thead th {\n",
       "        text-align: right;\n",
       "    }\n",
       "</style>\n",
       "<table border=\"1\" class=\"dataframe\">\n",
       "  <thead>\n",
       "    <tr style=\"text-align: right;\">\n",
       "      <th></th>\n",
       "      <th>name</th>\n",
       "      <th>sub_category</th>\n",
       "      <th>ratings</th>\n",
       "      <th>no_of_ratings</th>\n",
       "      <th>discount_price</th>\n",
       "      <th>actual_price</th>\n",
       "    </tr>\n",
       "  </thead>\n",
       "  <tbody>\n",
       "    <tr>\n",
       "      <th>0</th>\n",
       "      <td>Nutraj 100% Natural Dried Premium California W...</td>\n",
       "      <td>All Grocery &amp; Gourmet Foods</td>\n",
       "      <td>3.9</td>\n",
       "      <td>6081</td>\n",
       "      <td>686.0</td>\n",
       "      <td>998.0</td>\n",
       "    </tr>\n",
       "    <tr>\n",
       "      <th>1</th>\n",
       "      <td>Cadbury Bournvita 5 Star Magic Health Drink, 7...</td>\n",
       "      <td>All Grocery &amp; Gourmet Foods</td>\n",
       "      <td>4.3</td>\n",
       "      <td>8481</td>\n",
       "      <td>0.0</td>\n",
       "      <td>353.0</td>\n",
       "    </tr>\n",
       "    <tr>\n",
       "      <th>2</th>\n",
       "      <td>Sugar Free Green Natural Stevia Jar(200 g)</td>\n",
       "      <td>All Grocery &amp; Gourmet Foods</td>\n",
       "      <td>4.3</td>\n",
       "      <td>1585</td>\n",
       "      <td>162.0</td>\n",
       "      <td>170.0</td>\n",
       "    </tr>\n",
       "    <tr>\n",
       "      <th>3</th>\n",
       "      <td>Daawat Pulav, Long Grains, Fluffy Basmati for ...</td>\n",
       "      <td>All Grocery &amp; Gourmet Foods</td>\n",
       "      <td>4.3</td>\n",
       "      <td>3907</td>\n",
       "      <td>138.0</td>\n",
       "      <td>139.0</td>\n",
       "    </tr>\n",
       "    <tr>\n",
       "      <th>4</th>\n",
       "      <td>Tata Tea Gold | Assam teas with Gently Rolled ...</td>\n",
       "      <td>All Grocery &amp; Gourmet Foods</td>\n",
       "      <td>4.4</td>\n",
       "      <td>15528</td>\n",
       "      <td>283.0</td>\n",
       "      <td>295.0</td>\n",
       "    </tr>\n",
       "  </tbody>\n",
       "</table>\n",
       "</div>"
      ],
      "text/plain": [
       "                                                name  \\\n",
       "0  Nutraj 100% Natural Dried Premium California W...   \n",
       "1  Cadbury Bournvita 5 Star Magic Health Drink, 7...   \n",
       "2         Sugar Free Green Natural Stevia Jar(200 g)   \n",
       "3  Daawat Pulav, Long Grains, Fluffy Basmati for ...   \n",
       "4  Tata Tea Gold | Assam teas with Gently Rolled ...   \n",
       "\n",
       "                  sub_category ratings  no_of_ratings  discount_price  \\\n",
       "0  All Grocery & Gourmet Foods     3.9           6081           686.0   \n",
       "1  All Grocery & Gourmet Foods     4.3           8481             0.0   \n",
       "2  All Grocery & Gourmet Foods     4.3           1585           162.0   \n",
       "3  All Grocery & Gourmet Foods     4.3           3907           138.0   \n",
       "4  All Grocery & Gourmet Foods     4.4          15528           283.0   \n",
       "\n",
       "   actual_price  \n",
       "0         998.0  \n",
       "1         353.0  \n",
       "2         170.0  \n",
       "3         139.0  \n",
       "4         295.0  "
      ]
     },
     "execution_count": 33,
     "metadata": {},
     "output_type": "execute_result"
    }
   ],
   "source": [
    "food_drink.head()"
   ]
  },
  {
   "cell_type": "code",
   "execution_count": 34,
   "id": "42e74940-dddb-443c-ab24-abb79d311112",
   "metadata": {},
   "outputs": [
    {
     "data": {
      "text/plain": [
       "686.0"
      ]
     },
     "execution_count": 34,
     "metadata": {},
     "output_type": "execute_result"
    }
   ],
   "source": [
    "food_drink.iloc[0,-2]"
   ]
  },
  {
   "cell_type": "code",
   "execution_count": 35,
   "id": "977568ce-cb73-4960-b672-145a02adf8d6",
   "metadata": {},
   "outputs": [],
   "source": [
    "# Function to clean the price columns\n",
    "def clean_price_column(column):\n",
    "    return column.replace('[₹,]', '', regex=True).astype(float)\n",
    "\n",
    "# Apply the function to the discount_price and actual_price columns\n",
    "food_drink['discount_price'] = clean_price_column(food_drink['discount_price'])\n",
    "food_drink['actual_price'] = clean_price_column(food_drink['actual_price'])"
   ]
  },
  {
   "cell_type": "code",
   "execution_count": 36,
   "id": "d9613bdb-46a0-4d9c-8213-af78ef7a8a27",
   "metadata": {},
   "outputs": [
    {
     "name": "stdout",
     "output_type": "stream",
     "text": [
      "<class 'pandas.core.series.Series'>\n",
      "Index: 2068 entries, 0 to 1295\n",
      "Series name: no_of_ratings\n",
      "Non-Null Count  Dtype\n",
      "--------------  -----\n",
      "2068 non-null   int32\n",
      "dtypes: int32(1)\n",
      "memory usage: 24.2 KB\n"
     ]
    }
   ],
   "source": [
    "food_drink['no_of_ratings'].info()"
   ]
  },
  {
   "cell_type": "code",
   "execution_count": 38,
   "id": "37e52347-c808-4997-80e4-85c2676f2bae",
   "metadata": {},
   "outputs": [],
   "source": [
    "# Replace 'Get' with 0.0 in the 'ratings' column\n",
    "food_drink['ratings'] = food_drink['ratings'].replace('Get', 0.0)\n",
    "# Ensure the ratings column is of float type\n",
    "food_drink['ratings'] = food_drink['ratings'].astype(float)\n"
   ]
  },
  {
   "cell_type": "code",
   "execution_count": 55,
   "id": "73a0e186-45cd-413b-8a4b-d9a886719725",
   "metadata": {},
   "outputs": [],
   "source": [
    "# Remove rows where any of the specified columns have a value of 0.0\n",
    "food_drink = food_drink[(food_drink['ratings'] != 0.0) & \n",
    "                        (food_drink['no_of_ratings'] != 0.0) & \n",
    "                        (food_drink['discount_price'] != 0.0)]\n"
   ]
  },
  {
   "cell_type": "code",
   "execution_count": null,
   "id": "ebc06801-1cdf-432d-9cd9-78e9ec0f4bcb",
   "metadata": {},
   "outputs": [],
   "source": []
  },
  {
   "cell_type": "code",
   "execution_count": 58,
   "id": "8f1101f4-b872-4b6a-9a7f-8356e7a0bca0",
   "metadata": {},
   "outputs": [
    {
     "data": {
      "text/plain": [
       "name                             object\n",
       "sub_category                     object\n",
       "ratings                         float64\n",
       "no_of_ratings                     int32\n",
       "discount_price                  float64\n",
       "actual_price                    float64\n",
       "discount_percentage             float64\n",
       "discount_percentage_original    float64\n",
       "dtype: object"
      ]
     },
     "execution_count": 58,
     "metadata": {},
     "output_type": "execute_result"
    }
   ],
   "source": [
    "food_drink.dtypes"
   ]
  },
  {
   "cell_type": "code",
   "execution_count": 62,
   "id": "4c3f8270-844c-4bcc-a68f-68cf1e7539ed",
   "metadata": {},
   "outputs": [
    {
     "name": "stderr",
     "output_type": "stream",
     "text": [
      "C:\\Users\\Meli\\AppData\\Local\\Temp\\ipykernel_19652\\667651050.py:2: SettingWithCopyWarning: \n",
      "A value is trying to be set on a copy of a slice from a DataFrame.\n",
      "Try using .loc[row_indexer,col_indexer] = value instead\n",
      "\n",
      "See the caveats in the documentation: https://pandas.pydata.org/pandas-docs/stable/user_guide/indexing.html#returning-a-view-versus-a-copy\n",
      "  food_drink['discount_price'],food_drink['actual_price'] = np.where(food_drink['discount_price'] < food_drink['actual_price'], (food_drink['discount_price'],food_drink['actual_price']),\n"
     ]
    }
   ],
   "source": [
    "# some values from discount_price and actual_price are inverted, this funtion fixes that.\n",
    "food_drink['discount_price'],food_drink['actual_price'] = np.where(food_drink['discount_price'] < food_drink['actual_price'], (food_drink['discount_price'],food_drink['actual_price']),\n",
    "         (food_drink['actual_price'],food_drink['discount_price']) )"
   ]
  },
  {
   "cell_type": "code",
   "execution_count": 41,
   "id": "889b673e-12a6-4dbc-a608-a49dd0fbb0ff",
   "metadata": {},
   "outputs": [
    {
     "data": {
      "text/plain": [
       "0       False\n",
       "1       False\n",
       "2       False\n",
       "3       False\n",
       "4       False\n",
       "        ...  \n",
       "1291    False\n",
       "1292    False\n",
       "1293    False\n",
       "1294    False\n",
       "1295    False\n",
       "Length: 2068, dtype: bool"
      ]
     },
     "execution_count": 41,
     "metadata": {},
     "output_type": "execute_result"
    }
   ],
   "source": [
    "food_drink['discount_price'] > food_drink['actual_price']"
   ]
  },
  {
   "cell_type": "code",
   "execution_count": null,
   "id": "76c37f8b-d175-47ad-9194-d4d19c7f6d2c",
   "metadata": {},
   "outputs": [],
   "source": []
  },
  {
   "cell_type": "code",
   "execution_count": null,
   "id": "818fd797-bd13-4d8b-b3c9-91fb22a39f87",
   "metadata": {},
   "outputs": [],
   "source": []
  },
  {
   "cell_type": "code",
   "execution_count": null,
   "id": "6d393eaa-d380-4912-8e4f-336802b4b800",
   "metadata": {},
   "outputs": [],
   "source": []
  },
  {
   "cell_type": "markdown",
   "id": "5f95104e-bdd2-4ef4-8bc7-88a568aec174",
   "metadata": {},
   "source": [
    "#  Statistical Analysis"
   ]
  },
  {
   "cell_type": "code",
   "execution_count": null,
   "id": "3f11105a-1a93-47ff-96d7-e5c8b7654caf",
   "metadata": {},
   "outputs": [],
   "source": []
  },
  {
   "cell_type": "code",
   "execution_count": 43,
   "id": "660a53f2-d7bc-4c38-94db-c981bf2017cd",
   "metadata": {},
   "outputs": [],
   "source": [
    "# Data Preprocessing"
   ]
  },
  {
   "cell_type": "code",
   "execution_count": 44,
   "id": "3710348b-75d7-4fc1-ba3e-f49544e41ea4",
   "metadata": {},
   "outputs": [
    {
     "data": {
      "text/plain": [
       "' handle outliers?? normalize numerical features? '"
      ]
     },
     "execution_count": 44,
     "metadata": {},
     "output_type": "execute_result"
    }
   ],
   "source": [
    "\"\"\" handle outliers?? normalize numerical features? \"\"\""
   ]
  },
  {
   "cell_type": "code",
   "execution_count": 70,
   "id": "6309e175-2008-4b11-b432-e0731d53f202",
   "metadata": {},
   "outputs": [
    {
     "data": {
      "text/html": [
       "<div>\n",
       "<style scoped>\n",
       "    .dataframe tbody tr th:only-of-type {\n",
       "        vertical-align: middle;\n",
       "    }\n",
       "\n",
       "    .dataframe tbody tr th {\n",
       "        vertical-align: top;\n",
       "    }\n",
       "\n",
       "    .dataframe thead th {\n",
       "        text-align: right;\n",
       "    }\n",
       "</style>\n",
       "<table border=\"1\" class=\"dataframe\">\n",
       "  <thead>\n",
       "    <tr style=\"text-align: right;\">\n",
       "      <th></th>\n",
       "      <th>ratings</th>\n",
       "      <th>no_of_ratings</th>\n",
       "      <th>discount_price</th>\n",
       "      <th>actual_price</th>\n",
       "      <th>discount_percentage</th>\n",
       "      <th>discount_percentage_original</th>\n",
       "    </tr>\n",
       "  </thead>\n",
       "  <tbody>\n",
       "    <tr>\n",
       "      <th>count</th>\n",
       "      <td>1562.0</td>\n",
       "      <td>1562.0</td>\n",
       "      <td>1562.0</td>\n",
       "      <td>1562.0</td>\n",
       "      <td>1562.0</td>\n",
       "      <td>1562.0</td>\n",
       "    </tr>\n",
       "    <tr>\n",
       "      <th>mean</th>\n",
       "      <td>4.1</td>\n",
       "      <td>644.8</td>\n",
       "      <td>461.9</td>\n",
       "      <td>650.8</td>\n",
       "      <td>20.7</td>\n",
       "      <td>20.7</td>\n",
       "    </tr>\n",
       "    <tr>\n",
       "      <th>std</th>\n",
       "      <td>0.5</td>\n",
       "      <td>1964.5</td>\n",
       "      <td>615.7</td>\n",
       "      <td>1258.3</td>\n",
       "      <td>16.5</td>\n",
       "      <td>16.5</td>\n",
       "    </tr>\n",
       "    <tr>\n",
       "      <th>min</th>\n",
       "      <td>1.0</td>\n",
       "      <td>1.0</td>\n",
       "      <td>8.0</td>\n",
       "      <td>10.0</td>\n",
       "      <td>0.1</td>\n",
       "      <td>0.1</td>\n",
       "    </tr>\n",
       "    <tr>\n",
       "      <th>25%</th>\n",
       "      <td>4.0</td>\n",
       "      <td>18.2</td>\n",
       "      <td>194.2</td>\n",
       "      <td>250.0</td>\n",
       "      <td>7.3</td>\n",
       "      <td>7.3</td>\n",
       "    </tr>\n",
       "    <tr>\n",
       "      <th>50%</th>\n",
       "      <td>4.2</td>\n",
       "      <td>115.0</td>\n",
       "      <td>317.0</td>\n",
       "      <td>400.0</td>\n",
       "      <td>16.8</td>\n",
       "      <td>16.8</td>\n",
       "    </tr>\n",
       "    <tr>\n",
       "      <th>75%</th>\n",
       "      <td>4.4</td>\n",
       "      <td>517.8</td>\n",
       "      <td>529.8</td>\n",
       "      <td>699.0</td>\n",
       "      <td>30.0</td>\n",
       "      <td>30.0</td>\n",
       "    </tr>\n",
       "    <tr>\n",
       "      <th>max</th>\n",
       "      <td>5.0</td>\n",
       "      <td>50629.0</td>\n",
       "      <td>13899.0</td>\n",
       "      <td>38000.0</td>\n",
       "      <td>94.6</td>\n",
       "      <td>94.6</td>\n",
       "    </tr>\n",
       "  </tbody>\n",
       "</table>\n",
       "</div>"
      ],
      "text/plain": [
       "       ratings  no_of_ratings  discount_price  actual_price  \\\n",
       "count   1562.0         1562.0          1562.0        1562.0   \n",
       "mean       4.1          644.8           461.9         650.8   \n",
       "std        0.5         1964.5           615.7        1258.3   \n",
       "min        1.0            1.0             8.0          10.0   \n",
       "25%        4.0           18.2           194.2         250.0   \n",
       "50%        4.2          115.0           317.0         400.0   \n",
       "75%        4.4          517.8           529.8         699.0   \n",
       "max        5.0        50629.0         13899.0       38000.0   \n",
       "\n",
       "       discount_percentage  discount_percentage_original  \n",
       "count               1562.0                        1562.0  \n",
       "mean                  20.7                          20.7  \n",
       "std                   16.5                          16.5  \n",
       "min                    0.1                           0.1  \n",
       "25%                    7.3                           7.3  \n",
       "50%                   16.8                          16.8  \n",
       "75%                   30.0                          30.0  \n",
       "max                   94.6                          94.6  "
      ]
     },
     "metadata": {},
     "output_type": "display_data"
    }
   ],
   "source": [
    "descriptive_stats = food_drink.describe().round(1)\n",
    "display(descriptive_stats)"
   ]
  },
  {
   "cell_type": "code",
   "execution_count": 68,
   "id": "f81827e7-3532-41e6-8320-b28823443ddb",
   "metadata": {},
   "outputs": [
    {
     "name": "stderr",
     "output_type": "stream",
     "text": [
      "C:\\Users\\Meli\\AppData\\Local\\Temp\\ipykernel_19652\\3358250027.py:2: SettingWithCopyWarning: \n",
      "A value is trying to be set on a copy of a slice from a DataFrame.\n",
      "Try using .loc[row_indexer,col_indexer] = value instead\n",
      "\n",
      "See the caveats in the documentation: https://pandas.pydata.org/pandas-docs/stable/user_guide/indexing.html#returning-a-view-versus-a-copy\n",
      "  food_drink['discount_percentage'] = ((food_drink['actual_price'] - food_drink['discount_price']) / food_drink['actual_price']) * 100\n",
      "C:\\Users\\Meli\\AppData\\Local\\Temp\\ipykernel_19652\\3358250027.py:4: SettingWithCopyWarning: \n",
      "A value is trying to be set on a copy of a slice from a DataFrame.\n",
      "Try using .loc[row_indexer,col_indexer] = value instead\n",
      "\n",
      "See the caveats in the documentation: https://pandas.pydata.org/pandas-docs/stable/user_guide/indexing.html#returning-a-view-versus-a-copy\n",
      "  food_drink['discount_percentage'] = food_drink['discount_percentage'].round(1)\n"
     ]
    },
    {
     "data": {
      "text/plain": [
       "0       31.3\n",
       "2        4.7\n",
       "3        0.7\n",
       "4        4.1\n",
       "5        3.1\n",
       "        ... \n",
       "1289    44.5\n",
       "1291    21.4\n",
       "1292    56.4\n",
       "1294     5.7\n",
       "1295    16.7\n",
       "Name: discount_percentage, Length: 1562, dtype: float64"
      ]
     },
     "execution_count": 68,
     "metadata": {},
     "output_type": "execute_result"
    }
   ],
   "source": [
    "# Create new features to improve the analysis.\n",
    "food_drink['discount_percentage'] = ((food_drink['actual_price'] - food_drink['discount_price']) / food_drink['actual_price']) * 100\n",
    "# Round the discount percentage to 1 decimal place\n",
    "food_drink['discount_percentage'] = food_drink['discount_percentage'].round(1)\n",
    "food_drink.discount_percentage"
   ]
  },
  {
   "cell_type": "code",
   "execution_count": null,
   "id": "59bb7bec-c19f-490a-9b2f-4d34ecdabc82",
   "metadata": {},
   "outputs": [],
   "source": []
  },
  {
   "cell_type": "code",
   "execution_count": null,
   "id": "0249e9cf-1379-4f0e-9fd0-a7dcaaa738f5",
   "metadata": {},
   "outputs": [],
   "source": []
  },
  {
   "cell_type": "code",
   "execution_count": null,
   "id": "e1825b6d-907b-40e7-adda-3f6d917a183b",
   "metadata": {},
   "outputs": [],
   "source": []
  },
  {
   "cell_type": "code",
   "execution_count": null,
   "id": "522badd3-0d57-46f6-b606-18f703f79bc0",
   "metadata": {},
   "outputs": [],
   "source": []
  },
  {
   "cell_type": "code",
   "execution_count": null,
   "id": "ef656ae2-9f32-4bf9-9154-27b86763a855",
   "metadata": {},
   "outputs": [],
   "source": []
  },
  {
   "cell_type": "code",
   "execution_count": null,
   "id": "52664bcf-0865-4e23-931c-cf97e7dbdbca",
   "metadata": {},
   "outputs": [],
   "source": []
  },
  {
   "cell_type": "code",
   "execution_count": 48,
   "id": "e037fc49-a6d4-4826-8de5-7d025d07ab20",
   "metadata": {},
   "outputs": [
    {
     "ename": "NameError",
     "evalue": "name 'corr' is not defined",
     "output_type": "error",
     "traceback": [
      "\u001b[1;31m---------------------------------------------------------------------------\u001b[0m",
      "\u001b[1;31mNameError\u001b[0m                                 Traceback (most recent call last)",
      "Cell \u001b[1;32mIn[48], line 3\u001b[0m\n\u001b[0;32m      1\u001b[0m \u001b[38;5;66;03m# Heatmap of the correlation matrix\u001b[39;00m\n\u001b[0;32m      2\u001b[0m plt\u001b[38;5;241m.\u001b[39mfigure(figsize\u001b[38;5;241m=\u001b[39m(\u001b[38;5;241m10\u001b[39m, \u001b[38;5;241m6\u001b[39m))\n\u001b[1;32m----> 3\u001b[0m sns\u001b[38;5;241m.\u001b[39mheatmap(corr, annot\u001b[38;5;241m=\u001b[39m\u001b[38;5;28;01mTrue\u001b[39;00m, cmap\u001b[38;5;241m=\u001b[39m\u001b[38;5;124m'\u001b[39m\u001b[38;5;124mcoolwarm\u001b[39m\u001b[38;5;124m'\u001b[39m, fmt\u001b[38;5;241m=\u001b[39m\u001b[38;5;124m'\u001b[39m\u001b[38;5;124m.2f\u001b[39m\u001b[38;5;124m'\u001b[39m)\n\u001b[0;32m      4\u001b[0m plt\u001b[38;5;241m.\u001b[39mtitle(\u001b[38;5;124m'\u001b[39m\u001b[38;5;124mHeatmap of Correlations\u001b[39m\u001b[38;5;124m'\u001b[39m)\n\u001b[0;32m      5\u001b[0m plt\u001b[38;5;241m.\u001b[39mshow()\n",
      "\u001b[1;31mNameError\u001b[0m: name 'corr' is not defined"
     ]
    },
    {
     "data": {
      "text/plain": [
       "<Figure size 1000x600 with 0 Axes>"
      ]
     },
     "metadata": {},
     "output_type": "display_data"
    }
   ],
   "source": []
  },
  {
   "cell_type": "code",
   "execution_count": null,
   "id": "e5384f36-736e-4ac5-b82b-fde5ad99c731",
   "metadata": {},
   "outputs": [],
   "source": [
    "\n",
    "\n"
   ]
  },
  {
   "cell_type": "markdown",
   "id": "6342724f-034a-4e84-b257-9537501300db",
   "metadata": {},
   "source": [
    "# Hypotesis Testing"
   ]
  },
  {
   "cell_type": "markdown",
   "id": "5a16a225-5cbe-46cf-b5a4-87b39cbc891f",
   "metadata": {},
   "source": [
    "## Calculating the Pearson correlation coefficient between discount_percentage and ratings to quantify their linear relationship."
   ]
  },
  {
   "cell_type": "code",
   "execution_count": 80,
   "id": "7f56cfe9-5c39-4bc6-ae67-3fa35cddf072",
   "metadata": {},
   "outputs": [
    {
     "name": "stdout",
     "output_type": "stream",
     "text": [
      "Pearson correlation coefficient between 'discount_percentage' and 'ratings': -0.06\n"
     ]
    }
   ],
   "source": [
    "\"\"\" (Pearson: -0.03, Spearman: -0.07) This means that as the discount percentage increases, the ratings slightly decrease, but the relationship is too weak \"\"\"\n",
    "# Calculate the Pearson correlation coefficient between 'discount_percentage' and 'ratings'\n",
    "correlation_discount = food_drink['discount_percentage'].corr(food_drink['ratings'])\n",
    "print(f\"Pearson correlation coefficient between 'discount_percentage' and 'ratings': {correlation_discount: .2f}\")\n"
   ]
  },
  {
   "cell_type": "code",
   "execution_count": 82,
   "id": "a6fb5591-554f-4663-8730-d33377a156ca",
   "metadata": {},
   "outputs": [
    {
     "name": "stdout",
     "output_type": "stream",
     "text": [
      "spearman correlation coefficient between 'discount_percentage' and 'ratings': -0.10\n"
     ]
    }
   ],
   "source": [
    "correlation_discount = food_drink['discount_percentage'].corr(food_drink['ratings'], method='spearman')\n",
    "print(f\"spearman correlation coefficient between 'discount_percentage' and 'ratings': {correlation_discount: .2f}\")\n"
   ]
  },
  {
   "cell_type": "code",
   "execution_count": 84,
   "id": "6bbe1e90-c3bf-4f63-a488-fda41af94c68",
   "metadata": {},
   "outputs": [
    {
     "name": "stdout",
     "output_type": "stream",
     "text": [
      "Pearson correlation coefficient between 'discount_percentage' and 'no_of_ratings': -0.02\n"
     ]
    }
   ],
   "source": [
    "\"\"\"  (Pearson: -0.01, Spearman: -0.03) discount percentages do not have a meaningful impact on the number of ratings. \"\"\"\n",
    "# Calculate the Pearson correlation coefficient between 'discount_percentage' and 'no_of_ratings'\n",
    "correlation_discount = food_drink['discount_percentage'].corr(food_drink['no_of_ratings'])\n",
    "print(f\"Pearson correlation coefficient between 'discount_percentage' and 'no_of_ratings': {correlation_discount: .2f}\")\n"
   ]
  },
  {
   "cell_type": "code",
   "execution_count": 86,
   "id": "139e5314-c9a0-4261-ad63-11ac33712af6",
   "metadata": {},
   "outputs": [
    {
     "name": "stdout",
     "output_type": "stream",
     "text": [
      "spearman correlation coefficient between 'discount_percentage' and 'no_of_ratings': -0.07\n"
     ]
    }
   ],
   "source": [
    "correlation_discount = food_drink['discount_percentage_original'].corr(food_drink['no_of_ratings'], method='spearman')\n",
    "print(f\"spearman correlation coefficient between 'discount_percentage' and 'no_of_ratings': {correlation_discount: .2f}\")\n"
   ]
  },
  {
   "cell_type": "code",
   "execution_count": null,
   "id": "a35b7bca-9c00-46dd-8cac-d2438fdbaa30",
   "metadata": {},
   "outputs": [],
   "source": [
    "\"\"\" HACER NUEVA INTERPRETACION CON NUEVOS RESULTADOS** These weak correlations may imply that customers' ratings are more influenced by factors other than discounts, such as product quality, brand reputation, \n",
    "or personal preferences. Similarly, the number of ratings a product receives is likely influenced by factors like product popularity and marketing efforts \n",
    "rather than just the discount offered, the company should focus on increasing product quality and customer service. \"\"\""
   ]
  },
  {
   "attachments": {},
   "cell_type": "markdown",
   "id": "ea80a1a7-a1dd-4a39-8d3d-a60f19f8b372",
   "metadata": {},
   "source": [
    "# calculate the Pearson Correlation Coefficient between ratings and the number of ratings."
   ]
  },
  {
   "cell_type": "code",
   "execution_count": 88,
   "id": "73d52726-a2fb-4075-b4a9-0bbec596637b",
   "metadata": {},
   "outputs": [
    {
     "name": "stdout",
     "output_type": "stream",
     "text": [
      "Pearson correlation coefficient between 'ratings' and 'no_of_ratings':  0.09\n"
     ]
    }
   ],
   "source": [
    "\"\"\" (Pearson: 0.09, Spearman: 0.13) products with more ratings tend to have slightly higher ratings, but the effect is minimal. \"\"\"\n",
    "# Calculate the Pearson correlation coefficient between 'discount_percentage' and 'ratings'\n",
    "correlation_discount = food_drink['ratings'].corr(food_drink['no_of_ratings'])\n",
    "print(f\"Pearson correlation coefficient between 'ratings' and 'no_of_ratings': {correlation_discount: .2f}\")"
   ]
  },
  {
   "cell_type": "code",
   "execution_count": 94,
   "id": "2efff7e3-a066-4c45-aa9f-a116934fb519",
   "metadata": {},
   "outputs": [
    {
     "name": "stdout",
     "output_type": "stream",
     "text": [
      "spearman correlation coefficient between 'ratings' and 'no_of_ratings':  0.10\n"
     ]
    }
   ],
   "source": [
    "correlation_discount = food_drink['ratings'].corr(food_drink['no_of_ratings'], method='spearman')\n",
    "print(f\"spearman correlation coefficient between 'ratings' and 'no_of_ratings': {correlation_discount: .2f}\")"
   ]
  },
  {
   "cell_type": "code",
   "execution_count": 98,
   "id": "f9f06353-7464-4271-ad05-67e907457162",
   "metadata": {},
   "outputs": [
    {
     "ename": "NameError",
     "evalue": "name 'food_drink_numerical' is not defined",
     "output_type": "error",
     "traceback": [
      "\u001b[1;31m---------------------------------------------------------------------------\u001b[0m",
      "\u001b[1;31mNameError\u001b[0m                                 Traceback (most recent call last)",
      "Cell \u001b[1;32mIn[98], line 2\u001b[0m\n\u001b[0;32m      1\u001b[0m \u001b[38;5;66;03m# Calculating the Spearman correlation coefficients between 'SalePrice' and all other numerical variables\u001b[39;00m\n\u001b[1;32m----> 2\u001b[0m spearman_correlations \u001b[38;5;241m=\u001b[39m food_drink_numerical\u001b[38;5;241m.\u001b[39mcorrwith(food_drink[\u001b[38;5;124m'\u001b[39m\u001b[38;5;124mratings\u001b[39m\u001b[38;5;124m'\u001b[39m], method\u001b[38;5;241m=\u001b[39m\u001b[38;5;124m'\u001b[39m\u001b[38;5;124mspearman\u001b[39m\u001b[38;5;124m'\u001b[39m)\n\u001b[0;32m      4\u001b[0m \u001b[38;5;66;03m# Sorting the correlations for better visualization\u001b[39;00m\n\u001b[0;32m      5\u001b[0m spearman_correlations_sorted \u001b[38;5;241m=\u001b[39m spearman_correlations\u001b[38;5;241m.\u001b[39msort_values(ascending\u001b[38;5;241m=\u001b[39m\u001b[38;5;28;01mFalse\u001b[39;00m)\n",
      "\u001b[1;31mNameError\u001b[0m: name 'food_drink_numerical' is not defined"
     ]
    }
   ],
   "source": [
    "# Calculating the Spearman correlation coefficients between 'SalePrice' and all other numerical variables\n",
    "spearman_correlations = food_drink_numerical.corrwith(food_drink['ratings'], method='spearman')\n",
    "\n",
    "# Sorting the correlations for better visualization\n",
    "spearman_correlations_sorted = spearman_correlations.sort_values(ascending=False)\n",
    "\n",
    "# Displaying the correlations\n",
    "spearman_correlations_sorted"
   ]
  },
  {
   "cell_type": "markdown",
   "id": "9c0c2945-424f-4ff8-9d88-1d4c45a1aca9",
   "metadata": {},
   "source": [
    "# Anova test"
   ]
  },
  {
   "cell_type": "code",
   "execution_count": 108,
   "id": "cace975c-ec74-4418-aa29-ed749a173c20",
   "metadata": {},
   "outputs": [
    {
     "data": {
      "text/plain": [
       "array(['All Grocery & Gourmet Foods', 'Coffee, Tea & Beverages'],\n",
       "      dtype=object)"
      ]
     },
     "execution_count": 108,
     "metadata": {},
     "output_type": "execute_result"
    }
   ],
   "source": [
    "food_drink['sub_category'].unique()"
   ]
  },
  {
   "cell_type": "code",
   "execution_count": 102,
   "id": "44a5c300-deac-4fec-9558-a0fdf54a1ed2",
   "metadata": {},
   "outputs": [
    {
     "data": {
      "image/png": "[encoded data removed]",
      "text/plain": [
       "<Figure size 640x480 with 1 Axes>"
      ]
     },
     "metadata": {},
     "output_type": "display_data"
    },
    {
     "data": {
      "image/png": "[encoded data removed]",
      "text/plain": [
       "<Figure size 640x480 with 1 Axes>"
      ]
     },
     "metadata": {},
     "output_type": "display_data"
    }
   ],
   "source": [
    "# Filter the data for the two sub-categories\n",
    "sub_category_1 = 'All Grocery & Gourmet Foods'\n",
    "sub_category_2 = 'Coffee, Tea & Beverages'\n",
    "\n",
    "data_sub_1 = food_drink[food_drink['sub_category'] == sub_category_1]\n",
    "data_sub_2 = food_drink[food_drink['sub_category'] == sub_category_2]\n",
    "\n",
    "# Extract the ratings\n",
    "ratings_sub_1 = data_sub_1['ratings']\n",
    "ratings_sub_2 = data_sub_2['ratings']\n",
    "\n",
    "# Check for normality (optional but recommended)\n",
    "sns.histplot(ratings_sub_1, kde=True)\n",
    "plt.title(f'Distribution of Ratings - {sub_category_1}')\n",
    "plt.show()\n",
    "\n",
    "sns.histplot(ratings_sub_2, kde=True)\n",
    "plt.title(f'Distribution of Ratings - {sub_category_2}')\n",
    "plt.show()"
   ]
  },
  {
   "cell_type": "code",
   "execution_count": 112,
   "id": "4a3f879a-0eae-4715-9205-588b493ae35e",
   "metadata": {},
   "outputs": [
    {
     "name": "stdout",
     "output_type": "stream",
     "text": [
      "ANOVA test results:\n",
      "F-statistic: 15.42\n",
      "P-value: 0.00\n"
     ]
    }
   ],
   "source": [
    "\"\"\" reject the null hypothesis (H0), which stated that there is no significant difference in the average ratings across different main categories. \"\"\"\n",
    "##  P-value of 0.00 is significantly less than the common significance level of 0.05, indicating that the observed differences in average ratings between \n",
    "## the different main categories are statistically significant.\n",
    "## The high F-statistic (15.42) suggests that the variance in ratings between the groups (main categories) is much larger than the variance within each group. \n",
    "## This supports the conclusion that there is a significant difference in average ratings between the main categories.\n",
    "\"\"\" If one or more main categories have significantly higher ratings, marketing efforts can focus on promoting the strengths of these categories. For example,\n",
    "if \"Snacks\" has higher ratings, highlighting customer satisfaction and positive reviews in this category can boost sales. \"\"\"\n",
    "\n",
    "# Filter the DataFrame for the specific sub-categories\n",
    "filtered_data = food_drink[food_drink['sub_category'].isin(['All Grocery & Gourmet Foods', 'Coffee, Tea & Beverages'])]\n",
    "\n",
    "# Split the data into groups\n",
    "group1 = filtered_data[filtered_data['sub_category'] == 'All Grocery & Gourmet Foods']['ratings']\n",
    "group2 = filtered_data[filtered_data['sub_category'] == 'Coffee, Tea & Beverages']['ratings']\n",
    "\n",
    "# Perform ANOVA test\n",
    "f_statistic, p_value = stats.f_oneway(group1, group2)\n",
    "\n",
    "# Display the results\n",
    "print(f\"ANOVA test results:\")\n",
    "print(f\"F-statistic: {f_statistic:.2f}\")\n",
    "print(f\"P-value: {p_value:.2f}\")"
   ]
  },
  {
   "cell_type": "code",
   "execution_count": 116,
   "id": "822fbb62-beab-4735-bc8a-728c5c02d6b4",
   "metadata": {},
   "outputs": [
    {
     "name": "stdout",
     "output_type": "stream",
     "text": [
      "ANOVA test results:\n",
      "F-statistic: 15.42\n",
      "P-value: 0.00\n",
      "Mean Ratings by Sub Category:\n",
      "sub_category\n",
      "All Grocery & Gourmet Foods    4.167962\n",
      "Coffee, Tea & Beverages        4.069975\n",
      "Name: ratings, dtype: float64\n"
     ]
    },
    {
     "data": {
      "image/png": "[encoded data removed]",
      "text/plain": [
       "<Figure size 1400x800 with 1 Axes>"
      ]
     },
     "metadata": {},
     "output_type": "display_data"
    },
    {
     "data": {
      "image/png": "[encoded data removed]",
      "text/plain": [
       "<Figure size 1400x800 with 1 Axes>"
      ]
     },
     "metadata": {},
     "output_type": "display_data"
    }
   ],
   "source": [
    "f_statistic, p_value = f_oneway(*[group['ratings'].values for name, group in food_drink.groupby('sub_category')])\n",
    "\n",
    "# Display ANOVA results\n",
    "print(f\"ANOVA test results:\")\n",
    "print(f\"F-statistic: {f_statistic:.2f}\")\n",
    "print(f\"P-value: {p_value:.2f}\")\n",
    "\n",
    "# Calculate mean ratings for each main category\n",
    "mean_ratings = food_drink.groupby('sub_category')['ratings'].mean()\n",
    "print(\"Mean Ratings by Sub Category:\")\n",
    "print(mean_ratings)\n",
    "\n",
    "# Box plot to visualize the distribution of ratings\n",
    "plt.figure(figsize=(14, 8))\n",
    "sns.boxplot(x='sub_category', y='ratings', data=food_drink)\n",
    "plt.title('Distribution of Ratings by Sub Category')\n",
    "plt.xticks(rotation=45)\n",
    "plt.show()\n",
    "\n",
    "# Violin plot for a detailed distribution\n",
    "plt.figure(figsize=(14, 8))\n",
    "sns.violinplot(x='sub_category', y='ratings', data=food_drink)\n",
    "plt.title('Detailed Distribution of Ratings by Sub Category')\n",
    "plt.xticks(rotation=45)\n",
    "plt.show()"
   ]
  },
  {
   "cell_type": "code",
   "execution_count": null,
   "id": "3e402757-4df8-4b81-9287-cecd27026fd0",
   "metadata": {},
   "outputs": [],
   "source": []
  },
  {
   "cell_type": "code",
   "execution_count": 122,
   "id": "064c9ecd-22c6-477d-9fd7-314b03706569",
   "metadata": {},
   "outputs": [
    {
     "data": {
      "text/plain": [
       "Index(['name', 'sub_category', 'ratings', 'no_of_ratings', 'discount_price',\n",
       "       'actual_price', 'discount_percentage', 'discount_percentage_original'],\n",
       "      dtype='object')"
      ]
     },
     "execution_count": 122,
     "metadata": {},
     "output_type": "execute_result"
    }
   ],
   "source": [
    "food_drink.columns"
   ]
  },
  {
   "cell_type": "code",
   "execution_count": null,
   "id": "9c6b2ced-022f-467b-becb-ad911e40ba22",
   "metadata": {},
   "outputs": [],
   "source": []
  },
  {
   "cell_type": "code",
   "execution_count": null,
   "id": "150f3732-67c9-4597-8d0f-6510c688ae7b",
   "metadata": {},
   "outputs": [],
   "source": []
  },
  {
   "cell_type": "code",
   "execution_count": 128,
   "id": "7b3b7129-495b-43fa-b90f-b30ee9e4fbd3",
   "metadata": {},
   "outputs": [],
   "source": [
    "food_drink.to_csv(\"C:\\\\Users\\\\Meli\\\\Desktop\\\\Ironhack\\\\Lab1\\\\final_project\\\\data\\\\clean\\\\food_drink.csv\", index=False)"
   ]
  },
  {
   "cell_type": "code",
   "execution_count": null,
   "id": "f2d93879-0253-445d-9769-d58f69ef5452",
   "metadata": {},
   "outputs": [],
   "source": []
  },
  {
   "cell_type": "code",
   "execution_count": null,
   "id": "2779874f-eac1-424e-b7dd-d6b22959f534",
   "metadata": {},
   "outputs": [],
   "source": []
  },
  {
   "cell_type": "code",
   "execution_count": null,
   "id": "29d8bf83-ad04-42f7-8d87-63dc1abcc4bc",
   "metadata": {},
   "outputs": [],
   "source": []
  },
  {
   "cell_type": "code",
   "execution_count": null,
   "id": "768a554a-bf74-4682-8bb2-7153b7cbd4a6",
   "metadata": {},
   "outputs": [],
   "source": []
  },
  {
   "cell_type": "code",
   "execution_count": null,
   "id": "a9402970-36d1-4bd7-bd75-0aed7955d55b",
   "metadata": {},
   "outputs": [],
   "source": []
  },
  {
   "cell_type": "code",
   "execution_count": null,
   "id": "fb1511b8-ae2a-4f8d-a07e-601194f1527d",
   "metadata": {},
   "outputs": [],
   "source": []
  },
  {
   "cell_type": "code",
   "execution_count": null,
   "id": "404a728d-5c28-4f39-b5f2-8685d2c21352",
   "metadata": {},
   "outputs": [],
   "source": []
  },
  {
   "cell_type": "code",
   "execution_count": null,
   "id": "cc46507b-449a-4323-b0c1-3a36c89f659c",
   "metadata": {},
   "outputs": [],
   "source": []
  },
  {
   "cell_type": "code",
   "execution_count": null,
   "id": "6ccb2789-2366-486b-855e-8fd849644bf1",
   "metadata": {},
   "outputs": [],
   "source": []
  },
  {
   "cell_type": "code",
   "execution_count": null,
   "id": "77ef937a-effc-4d39-bac1-7e607d8e42a5",
   "metadata": {},
   "outputs": [],
   "source": []
  },
  {
   "cell_type": "code",
   "execution_count": null,
   "id": "f7b058b7-cbab-4ab1-baa2-f225dfbf5268",
   "metadata": {},
   "outputs": [],
   "source": []
  },
  {
   "cell_type": "code",
   "execution_count": null,
   "id": "7a2e8404-a798-47ed-bedd-94c5e76992da",
   "metadata": {},
   "outputs": [],
   "source": []
  },
  {
   "cell_type": "code",
   "execution_count": null,
   "id": "d15a3c6f-14ce-4d36-aafc-d80c0a0fd44a",
   "metadata": {},
   "outputs": [],
   "source": []
  },
  {
   "cell_type": "code",
   "execution_count": null,
   "id": "cadf766d-12a6-436d-ac15-7f2d02adab5f",
   "metadata": {},
   "outputs": [],
   "source": []
  }
 ],
 "metadata": {
  "kernelspec": {
   "display_name": "final",
   "language": "python",
   "name": "final"
  },
  "language_info": {
   "codemirror_mode": {
    "name": "ipython",
    "version": 3
   },
   "file_extension": ".py",
   "mimetype": "text/x-python",
   "name": "python",
   "nbconvert_exporter": "python",
   "pygments_lexer": "ipython3",
   "version": "3.11.7"
  }
 },
 "nbformat": 4,
 "nbformat_minor": 5
}
